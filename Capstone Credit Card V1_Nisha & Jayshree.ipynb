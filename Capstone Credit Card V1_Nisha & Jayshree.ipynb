{
 "cells": [
  {
   "cell_type": "markdown",
   "metadata": {},
   "source": [
    "## Credit Card Fraud Detection\n",
    " -----------------------------------------------------------------------\n",
    " (Case Study Group Members - Nisha & Jayshree)\n",
    "\n",
    "In this project you will predict fraudulent credit card transactions with the help of Machine learning models. Please import the following libraries to get started."
   ]
  },
  {
   "cell_type": "markdown",
   "metadata": {},
   "source": [
    "#### Approach:\n",
    "1. Analyzed Data and done EDA\n",
    "2. Used 3 models- Random Forest, XGBoost & Decision Trees\n",
    "3. Done Hyper parameter tuning for each model on 3 data sets - Imbalance, SMOTE & ADasyn\n",
    "4. Compared the models on AUC score and Recall primarily chose the best fit model\n",
    "     ----In our case XGboost is the winner\n",
    "5. Found out Threshold probability\n",
    "6. Feature Importance Exercise done \n",
    "7. Cost Benefit analysis done"
   ]
  },
  {
   "cell_type": "code",
   "execution_count": 14,
   "metadata": {
    "scrolled": false
   },
   "outputs": [],
   "source": [
    "import numpy as np\n",
    "import pandas as pd\n",
    "\n",
    "import matplotlib.pyplot as plt\n",
    "%matplotlib inline\n",
    "import seaborn as sns\n",
    "\n",
    "from sklearn import metrics\n",
    "from sklearn import preprocessing"
   ]
  },
  {
   "cell_type": "markdown",
   "metadata": {},
   "source": [
    "## Exploratory data analysis"
   ]
  },
  {
   "cell_type": "code",
   "execution_count": 15,
   "metadata": {},
   "outputs": [
    {
     "data": {
      "text/html": [
       "<div>\n",
       "<style scoped>\n",
       "    .dataframe tbody tr th:only-of-type {\n",
       "        vertical-align: middle;\n",
       "    }\n",
       "\n",
       "    .dataframe tbody tr th {\n",
       "        vertical-align: top;\n",
       "    }\n",
       "\n",
       "    .dataframe thead th {\n",
       "        text-align: right;\n",
       "    }\n",
       "</style>\n",
       "<table border=\"1\" class=\"dataframe\">\n",
       "  <thead>\n",
       "    <tr style=\"text-align: right;\">\n",
       "      <th></th>\n",
       "      <th>Time</th>\n",
       "      <th>V1</th>\n",
       "      <th>V2</th>\n",
       "      <th>V3</th>\n",
       "      <th>V4</th>\n",
       "      <th>V5</th>\n",
       "      <th>V6</th>\n",
       "      <th>V7</th>\n",
       "      <th>V8</th>\n",
       "      <th>V9</th>\n",
       "      <th>...</th>\n",
       "      <th>V21</th>\n",
       "      <th>V22</th>\n",
       "      <th>V23</th>\n",
       "      <th>V24</th>\n",
       "      <th>V25</th>\n",
       "      <th>V26</th>\n",
       "      <th>V27</th>\n",
       "      <th>V28</th>\n",
       "      <th>Amount</th>\n",
       "      <th>Class</th>\n",
       "    </tr>\n",
       "  </thead>\n",
       "  <tbody>\n",
       "    <tr>\n",
       "      <th>0</th>\n",
       "      <td>0.0</td>\n",
       "      <td>-1.359807</td>\n",
       "      <td>-0.072781</td>\n",
       "      <td>2.536347</td>\n",
       "      <td>1.378155</td>\n",
       "      <td>-0.338321</td>\n",
       "      <td>0.462388</td>\n",
       "      <td>0.239599</td>\n",
       "      <td>0.098698</td>\n",
       "      <td>0.363787</td>\n",
       "      <td>...</td>\n",
       "      <td>-0.018307</td>\n",
       "      <td>0.277838</td>\n",
       "      <td>-0.110474</td>\n",
       "      <td>0.066928</td>\n",
       "      <td>0.128539</td>\n",
       "      <td>-0.189115</td>\n",
       "      <td>0.133558</td>\n",
       "      <td>-0.021053</td>\n",
       "      <td>149.62</td>\n",
       "      <td>0</td>\n",
       "    </tr>\n",
       "    <tr>\n",
       "      <th>1</th>\n",
       "      <td>0.0</td>\n",
       "      <td>1.191857</td>\n",
       "      <td>0.266151</td>\n",
       "      <td>0.166480</td>\n",
       "      <td>0.448154</td>\n",
       "      <td>0.060018</td>\n",
       "      <td>-0.082361</td>\n",
       "      <td>-0.078803</td>\n",
       "      <td>0.085102</td>\n",
       "      <td>-0.255425</td>\n",
       "      <td>...</td>\n",
       "      <td>-0.225775</td>\n",
       "      <td>-0.638672</td>\n",
       "      <td>0.101288</td>\n",
       "      <td>-0.339846</td>\n",
       "      <td>0.167170</td>\n",
       "      <td>0.125895</td>\n",
       "      <td>-0.008983</td>\n",
       "      <td>0.014724</td>\n",
       "      <td>2.69</td>\n",
       "      <td>0</td>\n",
       "    </tr>\n",
       "    <tr>\n",
       "      <th>2</th>\n",
       "      <td>1.0</td>\n",
       "      <td>-1.358354</td>\n",
       "      <td>-1.340163</td>\n",
       "      <td>1.773209</td>\n",
       "      <td>0.379780</td>\n",
       "      <td>-0.503198</td>\n",
       "      <td>1.800499</td>\n",
       "      <td>0.791461</td>\n",
       "      <td>0.247676</td>\n",
       "      <td>-1.514654</td>\n",
       "      <td>...</td>\n",
       "      <td>0.247998</td>\n",
       "      <td>0.771679</td>\n",
       "      <td>0.909412</td>\n",
       "      <td>-0.689281</td>\n",
       "      <td>-0.327642</td>\n",
       "      <td>-0.139097</td>\n",
       "      <td>-0.055353</td>\n",
       "      <td>-0.059752</td>\n",
       "      <td>378.66</td>\n",
       "      <td>0</td>\n",
       "    </tr>\n",
       "    <tr>\n",
       "      <th>3</th>\n",
       "      <td>1.0</td>\n",
       "      <td>-0.966272</td>\n",
       "      <td>-0.185226</td>\n",
       "      <td>1.792993</td>\n",
       "      <td>-0.863291</td>\n",
       "      <td>-0.010309</td>\n",
       "      <td>1.247203</td>\n",
       "      <td>0.237609</td>\n",
       "      <td>0.377436</td>\n",
       "      <td>-1.387024</td>\n",
       "      <td>...</td>\n",
       "      <td>-0.108300</td>\n",
       "      <td>0.005274</td>\n",
       "      <td>-0.190321</td>\n",
       "      <td>-1.175575</td>\n",
       "      <td>0.647376</td>\n",
       "      <td>-0.221929</td>\n",
       "      <td>0.062723</td>\n",
       "      <td>0.061458</td>\n",
       "      <td>123.50</td>\n",
       "      <td>0</td>\n",
       "    </tr>\n",
       "    <tr>\n",
       "      <th>4</th>\n",
       "      <td>2.0</td>\n",
       "      <td>-1.158233</td>\n",
       "      <td>0.877737</td>\n",
       "      <td>1.548718</td>\n",
       "      <td>0.403034</td>\n",
       "      <td>-0.407193</td>\n",
       "      <td>0.095921</td>\n",
       "      <td>0.592941</td>\n",
       "      <td>-0.270533</td>\n",
       "      <td>0.817739</td>\n",
       "      <td>...</td>\n",
       "      <td>-0.009431</td>\n",
       "      <td>0.798278</td>\n",
       "      <td>-0.137458</td>\n",
       "      <td>0.141267</td>\n",
       "      <td>-0.206010</td>\n",
       "      <td>0.502292</td>\n",
       "      <td>0.219422</td>\n",
       "      <td>0.215153</td>\n",
       "      <td>69.99</td>\n",
       "      <td>0</td>\n",
       "    </tr>\n",
       "  </tbody>\n",
       "</table>\n",
       "<p>5 rows × 31 columns</p>\n",
       "</div>"
      ],
      "text/plain": [
       "   Time        V1        V2        V3        V4        V5        V6        V7  \\\n",
       "0   0.0 -1.359807 -0.072781  2.536347  1.378155 -0.338321  0.462388  0.239599   \n",
       "1   0.0  1.191857  0.266151  0.166480  0.448154  0.060018 -0.082361 -0.078803   \n",
       "2   1.0 -1.358354 -1.340163  1.773209  0.379780 -0.503198  1.800499  0.791461   \n",
       "3   1.0 -0.966272 -0.185226  1.792993 -0.863291 -0.010309  1.247203  0.237609   \n",
       "4   2.0 -1.158233  0.877737  1.548718  0.403034 -0.407193  0.095921  0.592941   \n",
       "\n",
       "         V8        V9  ...       V21       V22       V23       V24       V25  \\\n",
       "0  0.098698  0.363787  ... -0.018307  0.277838 -0.110474  0.066928  0.128539   \n",
       "1  0.085102 -0.255425  ... -0.225775 -0.638672  0.101288 -0.339846  0.167170   \n",
       "2  0.247676 -1.514654  ...  0.247998  0.771679  0.909412 -0.689281 -0.327642   \n",
       "3  0.377436 -1.387024  ... -0.108300  0.005274 -0.190321 -1.175575  0.647376   \n",
       "4 -0.270533  0.817739  ... -0.009431  0.798278 -0.137458  0.141267 -0.206010   \n",
       "\n",
       "        V26       V27       V28  Amount  Class  \n",
       "0 -0.189115  0.133558 -0.021053  149.62      0  \n",
       "1  0.125895 -0.008983  0.014724    2.69      0  \n",
       "2 -0.139097 -0.055353 -0.059752  378.66      0  \n",
       "3 -0.221929  0.062723  0.061458  123.50      0  \n",
       "4  0.502292  0.219422  0.215153   69.99      0  \n",
       "\n",
       "[5 rows x 31 columns]"
      ]
     },
     "execution_count": 15,
     "metadata": {},
     "output_type": "execute_result"
    }
   ],
   "source": [
    "df = pd.read_csv(r\"C:\\Users\\Admin\\Downloads\\capstone\\creditcard.csv\")\n",
    "df.head()"
   ]
  },
  {
   "cell_type": "code",
   "execution_count": 220,
   "metadata": {},
   "outputs": [
    {
     "name": "stdout",
     "output_type": "stream",
     "text": [
      "Shape  (284807, 31)\n",
      "Data Summary\n",
      "                Time            V1            V2            V3            V4  \\\n",
      "count  284807.000000  2.848070e+05  2.848070e+05  2.848070e+05  2.848070e+05   \n",
      "mean    94813.859575  3.919560e-15  5.688174e-16 -8.769071e-15  2.782312e-15   \n",
      "std     47488.145955  1.958696e+00  1.651309e+00  1.516255e+00  1.415869e+00   \n",
      "min         0.000000 -5.640751e+01 -7.271573e+01 -4.832559e+01 -5.683171e+00   \n",
      "25%     54201.500000 -9.203734e-01 -5.985499e-01 -8.903648e-01 -8.486401e-01   \n",
      "50%     84692.000000  1.810880e-02  6.548556e-02  1.798463e-01 -1.984653e-02   \n",
      "75%    139320.500000  1.315642e+00  8.037239e-01  1.027196e+00  7.433413e-01   \n",
      "max    172792.000000  2.454930e+00  2.205773e+01  9.382558e+00  1.687534e+01   \n",
      "\n",
      "                 V5            V6            V7            V8            V9  \\\n",
      "count  2.848070e+05  2.848070e+05  2.848070e+05  2.848070e+05  2.848070e+05   \n",
      "mean  -1.552563e-15  2.010663e-15 -1.694249e-15 -1.927028e-16 -3.137024e-15   \n",
      "std    1.380247e+00  1.332271e+00  1.237094e+00  1.194353e+00  1.098632e+00   \n",
      "min   -1.137433e+02 -2.616051e+01 -4.355724e+01 -7.321672e+01 -1.343407e+01   \n",
      "25%   -6.915971e-01 -7.682956e-01 -5.540759e-01 -2.086297e-01 -6.430976e-01   \n",
      "50%   -5.433583e-02 -2.741871e-01  4.010308e-02  2.235804e-02 -5.142873e-02   \n",
      "75%    6.119264e-01  3.985649e-01  5.704361e-01  3.273459e-01  5.971390e-01   \n",
      "max    3.480167e+01  7.330163e+01  1.205895e+02  2.000721e+01  1.559499e+01   \n",
      "\n",
      "       ...           V21           V22           V23           V24  \\\n",
      "count  ...  2.848070e+05  2.848070e+05  2.848070e+05  2.848070e+05   \n",
      "mean   ...  1.537294e-16  7.959909e-16  5.367590e-16  4.458112e-15   \n",
      "std    ...  7.345240e-01  7.257016e-01  6.244603e-01  6.056471e-01   \n",
      "min    ... -3.483038e+01 -1.093314e+01 -4.480774e+01 -2.836627e+00   \n",
      "25%    ... -2.283949e-01 -5.423504e-01 -1.618463e-01 -3.545861e-01   \n",
      "50%    ... -2.945017e-02  6.781943e-03 -1.119293e-02  4.097606e-02   \n",
      "75%    ...  1.863772e-01  5.285536e-01  1.476421e-01  4.395266e-01   \n",
      "max    ...  2.720284e+01  1.050309e+01  2.252841e+01  4.584549e+00   \n",
      "\n",
      "                V25           V26           V27           V28         Amount  \\\n",
      "count  2.848070e+05  2.848070e+05  2.848070e+05  2.848070e+05  284807.000000   \n",
      "mean   1.453003e-15  1.699104e-15 -3.660161e-16 -1.206049e-16      88.349619   \n",
      "std    5.212781e-01  4.822270e-01  4.036325e-01  3.300833e-01     250.120109   \n",
      "min   -1.029540e+01 -2.604551e+00 -2.256568e+01 -1.543008e+01       0.000000   \n",
      "25%   -3.171451e-01 -3.269839e-01 -7.083953e-02 -5.295979e-02       5.600000   \n",
      "50%    1.659350e-02 -5.213911e-02  1.342146e-03  1.124383e-02      22.000000   \n",
      "75%    3.507156e-01  2.409522e-01  9.104512e-02  7.827995e-02      77.165000   \n",
      "max    7.519589e+00  3.517346e+00  3.161220e+01  3.384781e+01   25691.160000   \n",
      "\n",
      "               Class  \n",
      "count  284807.000000  \n",
      "mean        0.001727  \n",
      "std         0.041527  \n",
      "min         0.000000  \n",
      "25%         0.000000  \n",
      "50%         0.000000  \n",
      "75%         0.000000  \n",
      "max         1.000000  \n",
      "\n",
      "[8 rows x 31 columns]\n"
     ]
    }
   ],
   "source": [
    "#observe the different feature type present in the data\n",
    "print(\"Shape \", df.shape)\n",
    "print(\"Data Summary\")\n",
    "print(df.describe())"
   ]
  },
  {
   "cell_type": "code",
   "execution_count": 221,
   "metadata": {},
   "outputs": [
    {
     "name": "stdout",
     "output_type": "stream",
     "text": [
      "Time      0\n",
      "V1        0\n",
      "V2        0\n",
      "V3        0\n",
      "V4        0\n",
      "V5        0\n",
      "V6        0\n",
      "V7        0\n",
      "V8        0\n",
      "V9        0\n",
      "V10       0\n",
      "V11       0\n",
      "V12       0\n",
      "V13       0\n",
      "V14       0\n",
      "V15       0\n",
      "V16       0\n",
      "V17       0\n",
      "V18       0\n",
      "V19       0\n",
      "V20       0\n",
      "V21       0\n",
      "V22       0\n",
      "V23       0\n",
      "V24       0\n",
      "V25       0\n",
      "V26       0\n",
      "V27       0\n",
      "V28       0\n",
      "Amount    0\n",
      "Class     0\n",
      "dtype: int64\n"
     ]
    }
   ],
   "source": [
    "#Null Value Check\n",
    "\n",
    "print(df.isnull().sum())"
   ]
  },
  {
   "cell_type": "markdown",
   "metadata": {},
   "source": [
    "##### No Null Values in data"
   ]
  },
  {
   "cell_type": "markdown",
   "metadata": {},
   "source": [
    "Here we will observe the distribution of our classes"
   ]
  },
  {
   "cell_type": "code",
   "execution_count": 17,
   "metadata": {},
   "outputs": [
    {
     "name": "stdout",
     "output_type": "stream",
     "text": [
      "Fraudulent %  0.1727485630620034\n",
      "Non Fraudulent shares % 99.82725143693798\n",
      "[284315    492]\n"
     ]
    }
   ],
   "source": [
    "classes=df['Class'].value_counts()\n",
    "normal_share=classes[0]/df['Class'].count()*100\n",
    "fraud_share=classes[1]/df['Class'].count()*100\n",
    "print(\"Fraudulent % \", fraud_share)\n",
    "print(\"Non Fraudulent shares %\", normal_share)\n",
    "print(classes.values)"
   ]
  },
  {
   "cell_type": "markdown",
   "metadata": {},
   "source": [
    "####Checking for Skewness across columns, Skewness will be handled later in the code###"
   ]
  },
  {
   "cell_type": "code",
   "execution_count": 201,
   "metadata": {},
   "outputs": [
    {
     "data": {
      "text/plain": [
       "array([[<matplotlib.axes._subplots.AxesSubplot object at 0x0000028785FADE08>,\n",
       "        <matplotlib.axes._subplots.AxesSubplot object at 0x0000028793708E88>,\n",
       "        <matplotlib.axes._subplots.AxesSubplot object at 0x00000287937CDD48>,\n",
       "        <matplotlib.axes._subplots.AxesSubplot object at 0x00000287937E3788>,\n",
       "        <matplotlib.axes._subplots.AxesSubplot object at 0x00000287938011C8>,\n",
       "        <matplotlib.axes._subplots.AxesSubplot object at 0x0000028793834B88>],\n",
       "       [<matplotlib.axes._subplots.AxesSubplot object at 0x000002879386D508>,\n",
       "        <matplotlib.axes._subplots.AxesSubplot object at 0x00000287938A2F08>,\n",
       "        <matplotlib.axes._subplots.AxesSubplot object at 0x00000287938AEA08>,\n",
       "        <matplotlib.axes._subplots.AxesSubplot object at 0x00000287938E7AC8>,\n",
       "        <matplotlib.axes._subplots.AxesSubplot object at 0x00000287939530C8>,\n",
       "        <matplotlib.axes._subplots.AxesSubplot object at 0x000002879398B148>],\n",
       "       [<matplotlib.axes._subplots.AxesSubplot object at 0x00000287939C3248>,\n",
       "        <matplotlib.axes._subplots.AxesSubplot object at 0x00000287939FB348>,\n",
       "        <matplotlib.axes._subplots.AxesSubplot object at 0x0000028794285488>,\n",
       "        <matplotlib.axes._subplots.AxesSubplot object at 0x00000287942BE588>,\n",
       "        <matplotlib.axes._subplots.AxesSubplot object at 0x00000287942F6648>,\n",
       "        <matplotlib.axes._subplots.AxesSubplot object at 0x0000028785F42648>],\n",
       "       [<matplotlib.axes._subplots.AxesSubplot object at 0x0000028785F50148>,\n",
       "        <matplotlib.axes._subplots.AxesSubplot object at 0x0000028785F7BD48>,\n",
       "        <matplotlib.axes._subplots.AxesSubplot object at 0x0000028794342E88>,\n",
       "        <matplotlib.axes._subplots.AxesSubplot object at 0x000002879437DF88>,\n",
       "        <matplotlib.axes._subplots.AxesSubplot object at 0x00000287943B9048>,\n",
       "        <matplotlib.axes._subplots.AxesSubplot object at 0x0000028794772188>],\n",
       "       [<matplotlib.axes._subplots.AxesSubplot object at 0x00000287947A9288>,\n",
       "        <matplotlib.axes._subplots.AxesSubplot object at 0x00000287947E2388>,\n",
       "        <matplotlib.axes._subplots.AxesSubplot object at 0x000002879481A4C8>,\n",
       "        <matplotlib.axes._subplots.AxesSubplot object at 0x0000028794852548>,\n",
       "        <matplotlib.axes._subplots.AxesSubplot object at 0x000002879488C648>,\n",
       "        <matplotlib.axes._subplots.AxesSubplot object at 0x00000287948C4788>],\n",
       "       [<matplotlib.axes._subplots.AxesSubplot object at 0x00000287948FD888>,\n",
       "        <matplotlib.axes._subplots.AxesSubplot object at 0x0000028794936988>,\n",
       "        <matplotlib.axes._subplots.AxesSubplot object at 0x0000028794970B08>,\n",
       "        <matplotlib.axes._subplots.AxesSubplot object at 0x00000287949A7CC8>,\n",
       "        <matplotlib.axes._subplots.AxesSubplot object at 0x00000287949E0E88>,\n",
       "        <matplotlib.axes._subplots.AxesSubplot object at 0x0000028794A1D0C8>]],\n",
       "      dtype=object)"
      ]
     },
     "execution_count": 201,
     "metadata": {},
     "output_type": "execute_result"
    },
    {
     "data": {
      "image/png": "[encoded data removed]",
      "text/plain": [
       "<Figure size 1440x1440 with 36 Axes>"
      ]
     },
     "metadata": {
      "needs_background": "light"
     },
     "output_type": "display_data"
    }
   ],
   "source": [
    "df.skew()\n",
    "df.hist()"
   ]
  },
  {
   "cell_type": "code",
   "execution_count": 8,
   "metadata": {},
   "outputs": [
    {
     "data": {
      "image/png": "[encoded data removed]",
      "text/plain": [
       "<Figure size 432x288 with 1 Axes>"
      ]
     },
     "metadata": {
      "needs_background": "light"
     },
     "output_type": "display_data"
    },
    {
     "data": {
      "text/plain": [
       "Text(0, 0.5, 'Frequency')"
      ]
     },
     "execution_count": 8,
     "metadata": {},
     "output_type": "execute_result"
    },
    {
     "data": {
      "image/png": "[encoded data removed]",
      "text/plain": [
       "<Figure size 432x288 with 1 Axes>"
      ]
     },
     "metadata": {
      "needs_background": "light"
     },
     "output_type": "display_data"
    }
   ],
   "source": [
    "# Create a bar plot for the number and percentage of fraudulent vs non-fraudulent transcations\n",
    "plt.bar(\"Non Fraud\",normal_share, color = 'b', width = 0.25)\n",
    "plt.bar(\"Fraud\", fraud_share, color = 'r', width = 0.25)\n",
    "plt.title(\"% View\")\n",
    "plt.show()\n",
    "\n",
    "class_count = pd.value_counts(df['Class'], sort = True).sort_index()\n",
    "sns.countplot(x=\"Class\", data=df)\n",
    "plt.title(\"Class Count- Number View\")\n",
    "plt.xlabel(\"Class\")\n",
    "plt.ylabel(\"Frequency\")\n"
   ]
  },
  {
   "cell_type": "code",
   "execution_count": 206,
   "metadata": {},
   "outputs": [
    {
     "data": {
      "image/png": "[encoded data removed]",
      "text/plain": [
       "<Figure size 720x360 with 1 Axes>"
      ]
     },
     "metadata": {
      "needs_background": "light"
     },
     "output_type": "display_data"
    }
   ],
   "source": [
    "plt.figure(figsize=(10,5))\n",
    "plt.bar(['Non-Fraud','Fraud'], df['Class'].value_counts(), color=['b','r'])\n",
    "plt.xlabel('Class')\n",
    "plt.ylabel('Number of transactions')\n",
    "plt.annotate('{}\\n({:.4}%)'.format(df['Class'].value_counts()[0], \n",
    "                                        df['Class'].value_counts()[0]/df['Class'].count()*100),\n",
    "             (0.20, 0.45), xycoords='axes fraction')\n",
    "plt.annotate('{}\\n({:.4}%)'.format(df['Class'].value_counts()[1], \n",
    "                                         df['Class'].value_counts()[1]/df['Class'].count()*100),\n",
    "plt.tight_layout()\n",
    "plt.show()"
   ]
  },
  {
   "cell_type": "code",
   "execution_count": 223,
   "metadata": {},
   "outputs": [
    {
     "data": {
      "image/png": "[encoded data removed]",
      "text/plain": [
       "<Figure size 576x360 with 1 Axes>"
      ]
     },
     "metadata": {
      "needs_background": "light"
     },
     "output_type": "display_data"
    }
   ],
   "source": [
    "# Create a scatter plot to observe the distribution of classes with Amount\n",
    "plt.figure(figsize=(8,5))\n",
    "plt.scatter(df['Amount'], df['Class'])\n",
    "plt.xlabel('Amount')\n",
    "plt.ylabel('Class')\n",
    "plt.show()\n"
   ]
  },
  {
   "cell_type": "code",
   "execution_count": 222,
   "metadata": {},
   "outputs": [
    {
     "data": {
      "image/png": "[encoded data removed]",
      "text/plain": [
       "<Figure size 576x360 with 1 Axes>"
      ]
     },
     "metadata": {
      "needs_background": "light"
     },
     "output_type": "display_data"
    }
   ],
   "source": [
    "# Create a scatter plot to observe the distribution of classes with time\n",
    "plt.figure(figsize=(8,5))\n",
    "plt.scatter(df['Time']/(60*60), df['Class'])\n",
    "plt.xlabel('Time of transaction (in hours)')\n",
    "plt.ylabel('Class')\n",
    "plt.tight_layout()\n",
    "plt.show()\n"
   ]
  },
  {
   "cell_type": "code",
   "execution_count": 19,
   "metadata": {},
   "outputs": [
    {
     "data": {
      "text/html": [
       "<div>\n",
       "<style scoped>\n",
       "    .dataframe tbody tr th:only-of-type {\n",
       "        vertical-align: middle;\n",
       "    }\n",
       "\n",
       "    .dataframe tbody tr th {\n",
       "        vertical-align: top;\n",
       "    }\n",
       "\n",
       "    .dataframe thead th {\n",
       "        text-align: right;\n",
       "    }\n",
       "</style>\n",
       "<table border=\"1\" class=\"dataframe\">\n",
       "  <thead>\n",
       "    <tr style=\"text-align: right;\">\n",
       "      <th></th>\n",
       "      <th>V1</th>\n",
       "      <th>V2</th>\n",
       "      <th>V3</th>\n",
       "      <th>V4</th>\n",
       "      <th>V5</th>\n",
       "      <th>V6</th>\n",
       "      <th>V7</th>\n",
       "      <th>V8</th>\n",
       "      <th>V9</th>\n",
       "      <th>V10</th>\n",
       "      <th>...</th>\n",
       "      <th>V21</th>\n",
       "      <th>V22</th>\n",
       "      <th>V23</th>\n",
       "      <th>V24</th>\n",
       "      <th>V25</th>\n",
       "      <th>V26</th>\n",
       "      <th>V27</th>\n",
       "      <th>V28</th>\n",
       "      <th>Amount</th>\n",
       "      <th>Class</th>\n",
       "    </tr>\n",
       "  </thead>\n",
       "  <tbody>\n",
       "    <tr>\n",
       "      <th>0</th>\n",
       "      <td>-1.359807</td>\n",
       "      <td>-0.072781</td>\n",
       "      <td>2.536347</td>\n",
       "      <td>1.378155</td>\n",
       "      <td>-0.338321</td>\n",
       "      <td>0.462388</td>\n",
       "      <td>0.239599</td>\n",
       "      <td>0.098698</td>\n",
       "      <td>0.363787</td>\n",
       "      <td>0.090794</td>\n",
       "      <td>...</td>\n",
       "      <td>-0.018307</td>\n",
       "      <td>0.277838</td>\n",
       "      <td>-0.110474</td>\n",
       "      <td>0.066928</td>\n",
       "      <td>0.128539</td>\n",
       "      <td>-0.189115</td>\n",
       "      <td>0.133558</td>\n",
       "      <td>-0.021053</td>\n",
       "      <td>149.62</td>\n",
       "      <td>0</td>\n",
       "    </tr>\n",
       "    <tr>\n",
       "      <th>1</th>\n",
       "      <td>1.191857</td>\n",
       "      <td>0.266151</td>\n",
       "      <td>0.166480</td>\n",
       "      <td>0.448154</td>\n",
       "      <td>0.060018</td>\n",
       "      <td>-0.082361</td>\n",
       "      <td>-0.078803</td>\n",
       "      <td>0.085102</td>\n",
       "      <td>-0.255425</td>\n",
       "      <td>-0.166974</td>\n",
       "      <td>...</td>\n",
       "      <td>-0.225775</td>\n",
       "      <td>-0.638672</td>\n",
       "      <td>0.101288</td>\n",
       "      <td>-0.339846</td>\n",
       "      <td>0.167170</td>\n",
       "      <td>0.125895</td>\n",
       "      <td>-0.008983</td>\n",
       "      <td>0.014724</td>\n",
       "      <td>2.69</td>\n",
       "      <td>0</td>\n",
       "    </tr>\n",
       "    <tr>\n",
       "      <th>2</th>\n",
       "      <td>-1.358354</td>\n",
       "      <td>-1.340163</td>\n",
       "      <td>1.773209</td>\n",
       "      <td>0.379780</td>\n",
       "      <td>-0.503198</td>\n",
       "      <td>1.800499</td>\n",
       "      <td>0.791461</td>\n",
       "      <td>0.247676</td>\n",
       "      <td>-1.514654</td>\n",
       "      <td>0.207643</td>\n",
       "      <td>...</td>\n",
       "      <td>0.247998</td>\n",
       "      <td>0.771679</td>\n",
       "      <td>0.909412</td>\n",
       "      <td>-0.689281</td>\n",
       "      <td>-0.327642</td>\n",
       "      <td>-0.139097</td>\n",
       "      <td>-0.055353</td>\n",
       "      <td>-0.059752</td>\n",
       "      <td>378.66</td>\n",
       "      <td>0</td>\n",
       "    </tr>\n",
       "    <tr>\n",
       "      <th>3</th>\n",
       "      <td>-0.966272</td>\n",
       "      <td>-0.185226</td>\n",
       "      <td>1.792993</td>\n",
       "      <td>-0.863291</td>\n",
       "      <td>-0.010309</td>\n",
       "      <td>1.247203</td>\n",
       "      <td>0.237609</td>\n",
       "      <td>0.377436</td>\n",
       "      <td>-1.387024</td>\n",
       "      <td>-0.054952</td>\n",
       "      <td>...</td>\n",
       "      <td>-0.108300</td>\n",
       "      <td>0.005274</td>\n",
       "      <td>-0.190321</td>\n",
       "      <td>-1.175575</td>\n",
       "      <td>0.647376</td>\n",
       "      <td>-0.221929</td>\n",
       "      <td>0.062723</td>\n",
       "      <td>0.061458</td>\n",
       "      <td>123.50</td>\n",
       "      <td>0</td>\n",
       "    </tr>\n",
       "    <tr>\n",
       "      <th>4</th>\n",
       "      <td>-1.158233</td>\n",
       "      <td>0.877737</td>\n",
       "      <td>1.548718</td>\n",
       "      <td>0.403034</td>\n",
       "      <td>-0.407193</td>\n",
       "      <td>0.095921</td>\n",
       "      <td>0.592941</td>\n",
       "      <td>-0.270533</td>\n",
       "      <td>0.817739</td>\n",
       "      <td>0.753074</td>\n",
       "      <td>...</td>\n",
       "      <td>-0.009431</td>\n",
       "      <td>0.798278</td>\n",
       "      <td>-0.137458</td>\n",
       "      <td>0.141267</td>\n",
       "      <td>-0.206010</td>\n",
       "      <td>0.502292</td>\n",
       "      <td>0.219422</td>\n",
       "      <td>0.215153</td>\n",
       "      <td>69.99</td>\n",
       "      <td>0</td>\n",
       "    </tr>\n",
       "  </tbody>\n",
       "</table>\n",
       "<p>5 rows × 30 columns</p>\n",
       "</div>"
      ],
      "text/plain": [
       "         V1        V2        V3        V4        V5        V6        V7  \\\n",
       "0 -1.359807 -0.072781  2.536347  1.378155 -0.338321  0.462388  0.239599   \n",
       "1  1.191857  0.266151  0.166480  0.448154  0.060018 -0.082361 -0.078803   \n",
       "2 -1.358354 -1.340163  1.773209  0.379780 -0.503198  1.800499  0.791461   \n",
       "3 -0.966272 -0.185226  1.792993 -0.863291 -0.010309  1.247203  0.237609   \n",
       "4 -1.158233  0.877737  1.548718  0.403034 -0.407193  0.095921  0.592941   \n",
       "\n",
       "         V8        V9       V10  ...       V21       V22       V23       V24  \\\n",
       "0  0.098698  0.363787  0.090794  ... -0.018307  0.277838 -0.110474  0.066928   \n",
       "1  0.085102 -0.255425 -0.166974  ... -0.225775 -0.638672  0.101288 -0.339846   \n",
       "2  0.247676 -1.514654  0.207643  ...  0.247998  0.771679  0.909412 -0.689281   \n",
       "3  0.377436 -1.387024 -0.054952  ... -0.108300  0.005274 -0.190321 -1.175575   \n",
       "4 -0.270533  0.817739  0.753074  ... -0.009431  0.798278 -0.137458  0.141267   \n",
       "\n",
       "        V25       V26       V27       V28  Amount  Class  \n",
       "0  0.128539 -0.189115  0.133558 -0.021053  149.62      0  \n",
       "1  0.167170  0.125895 -0.008983  0.014724    2.69      0  \n",
       "2 -0.327642 -0.139097 -0.055353 -0.059752  378.66      0  \n",
       "3  0.647376 -0.221929  0.062723  0.061458  123.50      0  \n",
       "4 -0.206010  0.502292  0.219422  0.215153   69.99      0  \n",
       "\n",
       "[5 rows x 30 columns]"
      ]
     },
     "execution_count": 19,
     "metadata": {},
     "output_type": "execute_result"
    }
   ],
   "source": [
    "# Drop unnecessary columns\n",
    "df1 = df.drop(['Time'], axis=1)\n",
    "df1.head()"
   ]
  },
  {
   "cell_type": "markdown",
   "metadata": {},
   "source": [
    "### Splitting the data into train & test data"
   ]
  },
  {
   "cell_type": "code",
   "execution_count": 22,
   "metadata": {},
   "outputs": [],
   "source": [
    "Y= df1[['Class']]        #class variable\n",
    "X=df1.drop(\"Class\", axis=1)  #preparing target and independent variables\n",
    "cols=X.columns"
   ]
  },
  {
   "cell_type": "code",
   "execution_count": 24,
   "metadata": {},
   "outputs": [
    {
     "data": {
      "text/plain": [
       "((284807, 29), (284807, 1))"
      ]
     },
     "execution_count": 24,
     "metadata": {},
     "output_type": "execute_result"
    }
   ],
   "source": [
    "#original dimension of dataset\n",
    "X.shape, Y.shape"
   ]
  },
  {
   "cell_type": "markdown",
   "metadata": {},
   "source": [
    "###### preparing Oversampled data sets for further usage"
   ]
  },
  {
   "cell_type": "code",
   "execution_count": 25,
   "metadata": {},
   "outputs": [],
   "source": [
    "#SMOTE\n",
    "\n",
    "from imblearn.over_sampling import SMOTE\n",
    "from sklearn.model_selection import train_test_split, GridSearchCV"
   ]
  },
  {
   "cell_type": "code",
   "execution_count": 28,
   "metadata": {},
   "outputs": [],
   "source": [
    "sm = SMOTE()\n",
    "Xsmote, Ysmote = sm.fit_sample(X, Y)"
   ]
  },
  {
   "cell_type": "code",
   "execution_count": 29,
   "metadata": {},
   "outputs": [],
   "source": [
    "#Adasyn\n",
    "\n",
    "from imblearn.over_sampling import ADASYN"
   ]
  },
  {
   "cell_type": "code",
   "execution_count": 31,
   "metadata": {},
   "outputs": [],
   "source": [
    "Xada, Yada = ADASYN().fit_sample(X, Y)"
   ]
  },
  {
   "cell_type": "markdown",
   "metadata": {},
   "source": [
    "#### Dimesions of data sets after Smote and Adaysn OverSampling"
   ]
  },
  {
   "cell_type": "code",
   "execution_count": 32,
   "metadata": {},
   "outputs": [
    {
     "name": "stdout",
     "output_type": "stream",
     "text": [
      "Smote Samples:--\n",
      "(568630, 29) (568630, 1)\n",
      "Adasyn Samples:----\n",
      "(568555, 29) (568555, 1)\n"
     ]
    }
   ],
   "source": [
    "print(\"Smote Samples:--\")\n",
    "print(Xsmote.shape, Ysmote.shape)\n",
    "print(\"Adasyn Samples:----\")\n",
    "print(Xada.shape, Yada.shape)"
   ]
  },
  {
   "cell_type": "markdown",
   "metadata": {},
   "source": [
    "###### Splitting all data sets into train and Test"
   ]
  },
  {
   "cell_type": "code",
   "execution_count": 50,
   "metadata": {},
   "outputs": [],
   "source": [
    "from sklearn.model_selection import train_test_split\n",
    "\n",
    "X_train, X_test, y_train, y_test = train_test_split(X, Y, test_size = 0.25, random_state = 0)"
   ]
  },
  {
   "cell_type": "markdown",
   "metadata": {},
   "source": [
    "##### train test split with class balancing"
   ]
  },
  {
   "cell_type": "code",
   "execution_count": 51,
   "metadata": {},
   "outputs": [],
   "source": [
    "#SMOTE\n",
    "X_train_smote, X_test_smote, y_train_smote, y_test_smote = train_test_split(Xsmote, Ysmote, test_size = 0.25, random_state = 0)\n",
    "#ADA\n",
    "X_train_ada, X_test_ada, y_train_ada, y_test_ada= train_test_split(Xada, Yada, test_size = 0.25, random_state = 0)"
   ]
  },
  {
   "cell_type": "markdown",
   "metadata": {},
   "source": [
    "#### Applying Powertransformer to handle skewness and scaling"
   ]
  },
  {
   "cell_type": "code",
   "execution_count": 52,
   "metadata": {},
   "outputs": [],
   "source": [
    "from sklearn.preprocessing import PolynomialFeatures, PowerTransformer"
   ]
  },
  {
   "cell_type": "code",
   "execution_count": 130,
   "metadata": {},
   "outputs": [],
   "source": [
    "pt = PowerTransformer(method='yeo-johnson', standardize=True) \n",
    "X_train =pt.fit_transform(X_train)\n",
    "X_test =pt.fit_transform(X_test)"
   ]
  },
  {
   "cell_type": "code",
   "execution_count": 136,
   "metadata": {},
   "outputs": [],
   "source": [
    "X_train_smote=pt.fit_transform(X_train_smote)\n",
    "X_train_ada =pt.fit_transform(X_train_ada)\n",
    "X_test_smote=pt.fit_transform(X_test_smote)\n",
    "X_test_ada =pt.fit_transform(X_test_ada)"
   ]
  },
  {
   "cell_type": "markdown",
   "metadata": {},
   "source": [
    "## Model Building"
   ]
  },
  {
   "cell_type": "markdown",
   "metadata": {},
   "source": [
    "### Model -1 : Random Forest"
   ]
  },
  {
   "cell_type": "code",
   "execution_count": 42,
   "metadata": {},
   "outputs": [],
   "source": [
    "from sklearn.ensemble import RandomForestClassifier"
   ]
  },
  {
   "cell_type": "markdown",
   "metadata": {},
   "source": [
    "#### with Class Imbalance"
   ]
  },
  {
   "cell_type": "code",
   "execution_count": 43,
   "metadata": {},
   "outputs": [],
   "source": [
    "from sklearn.model_selection import RandomizedSearchCV"
   ]
  },
  {
   "cell_type": "code",
   "execution_count": 55,
   "metadata": {},
   "outputs": [],
   "source": [
    "#hyperparameter Tuning\n",
    "\n",
    "from sklearn.model_selection import KFold\n",
    "\n",
    "\n",
    "# specify number of folds for k-fold CV\n",
    "n_folds = 5\n",
    "\n",
    "# parameters to build the model on\n",
    "parameters = {'n_estimators': range(50, 100,300),'max_depth': range(10, 30, 5),'max_features': [3, 8, 16,25],\n",
    "              'min_samples_leaf': range(100, 400, 50), 'min_samples_split': range(50, 300, 50)}\n",
    "\n",
    "# instantiate the model (note we are specifying a max_depth)\n",
    "rf1 = RandomForestClassifier(class_weight=\"balanced\")\n",
    "rfgs = RandomizedSearchCV(rf1, parameters, \n",
    "                    cv=n_folds, return_train_score=True,\n",
    "                   scoring=\"accuracy\")\n"
   ]
  },
  {
   "cell_type": "code",
   "execution_count": 59,
   "metadata": {},
   "outputs": [
    {
     "data": {
      "text/plain": [
       "RandomizedSearchCV(cv=5,\n",
       "                   estimator=RandomForestClassifier(class_weight='balanced'),\n",
       "                   param_distributions={'max_depth': range(10, 30, 5),\n",
       "                                        'max_features': [3, 8, 16, 25],\n",
       "                                        'min_samples_leaf': range(100, 400, 50),\n",
       "                                        'min_samples_split': range(50, 300, 50),\n",
       "                                        'n_estimators': range(50, 100, 300)},\n",
       "                   return_train_score=True, scoring='accuracy')"
      ]
     },
     "execution_count": 59,
     "metadata": {},
     "output_type": "execute_result"
    }
   ],
   "source": [
    "rfgs.fit(X_train,y_train.values.ravel())"
   ]
  },
  {
   "cell_type": "code",
   "execution_count": 60,
   "metadata": {},
   "outputs": [
    {
     "name": "stdout",
     "output_type": "stream",
     "text": [
      "We can get accuracy of 0.9978324477423282 using {'n_estimators': 50, 'min_samples_split': 200, 'min_samples_leaf': 150, 'max_features': 25, 'max_depth': 25}\n"
     ]
    }
   ],
   "source": [
    "#Best params identification\n",
    "print('We can get accuracy of',rfgs.best_score_,'using',rfgs.best_params_)"
   ]
  },
  {
   "cell_type": "code",
   "execution_count": 65,
   "metadata": {},
   "outputs": [],
   "source": [
    "from sklearn.ensemble import RandomForestClassifier\n",
    "rfc_imbalance = RandomForestClassifier(bootstrap=True,class_weight=\"balanced\",\n",
    "                             max_depth=25,\n",
    "                             min_samples_leaf=150, \n",
    "                             min_samples_split=200,\n",
    "                             max_features=25,\n",
    "                             n_estimators=50,\n",
    "                             random_state=10,n_jobs=-1)"
   ]
  },
  {
   "cell_type": "code",
   "execution_count": 66,
   "metadata": {},
   "outputs": [
    {
     "data": {
      "text/plain": [
       "RandomForestClassifier(class_weight='balanced', max_depth=25, max_features=25,\n",
       "                       min_samples_leaf=150, min_samples_split=200,\n",
       "                       n_estimators=50, n_jobs=-1, random_state=10)"
      ]
     },
     "execution_count": 66,
     "metadata": {},
     "output_type": "execute_result"
    }
   ],
   "source": [
    "#training model\n",
    "rfc_imbalance.fit(X_train,y_train.values.ravel())"
   ]
  },
  {
   "cell_type": "code",
   "execution_count": 70,
   "metadata": {},
   "outputs": [],
   "source": [
    "import sklearn.metrics as metrics\n",
    "from sklearn.metrics import classification_report,confusion_matrix, accuracy_score"
   ]
  },
  {
   "cell_type": "code",
   "execution_count": 67,
   "metadata": {},
   "outputs": [],
   "source": [
    "y_train_predict=rfc_imbalance.predict(X_train)"
   ]
  },
  {
   "cell_type": "code",
   "execution_count": null,
   "metadata": {},
   "outputs": [],
   "source": [
    "## Training Metrics "
   ]
  },
  {
   "cell_type": "code",
   "execution_count": 229,
   "metadata": {},
   "outputs": [
    {
     "name": "stdout",
     "output_type": "stream",
     "text": [
      "Training Model parameters: \n",
      "AUC : 0.9964\n",
      "Recall/Sensitivity : 0.9946\n",
      "Precision : 0.4818\n",
      "Accuracy : 0.9981\n"
     ]
    }
   ],
   "source": [
    "print(\"Training Model parameters: \")\n",
    "print (\"AUC : %.4g\" % metrics.roc_auc_score(y_train, y_train_predict))\n",
    "print (\"Recall/Sensitivity : %.4g\" % metrics.recall_score(y_train, y_train_predict))\n",
    "print (\"Precision : %.4g\" % metrics.precision_score(y_train,y_train_predict))\n",
    "print (\"Accuracy : %.4g\" % metrics.accuracy_score(y_train, y_train_predict))"
   ]
  },
  {
   "cell_type": "code",
   "execution_count": 134,
   "metadata": {},
   "outputs": [],
   "source": [
    "y_predict_test = rfc_imbalance.predict(X_test)"
   ]
  },
  {
   "cell_type": "code",
   "execution_count": null,
   "metadata": {},
   "outputs": [],
   "source": [
    "#Test Performance Metrics"
   ]
  },
  {
   "cell_type": "code",
   "execution_count": 230,
   "metadata": {},
   "outputs": [
    {
     "name": "stdout",
     "output_type": "stream",
     "text": [
      "Test Model parameters: \n",
      "AUC : 0.9241\n",
      "Recall/Sensitivity : 0.85\n",
      "Precision : 0.4359\n",
      "Accuracy : 0.9979\n"
     ]
    }
   ],
   "source": [
    "print(\"Test Model parameters: \")\n",
    "print (\"AUC : %.4g\" % metrics.roc_auc_score(y_test, y_predict_test))\n",
    "print (\"Recall/Sensitivity : %.4g\" % metrics.recall_score(y_test, y_predict_test))\n",
    "print (\"Precision : %.4g\" % metrics.precision_score(y_test, y_predict_test))\n",
    "print (\"Accuracy : %.4g\" % metrics.accuracy_score(y_test, y_predict_test))"
   ]
  },
  {
   "cell_type": "code",
   "execution_count": null,
   "metadata": {},
   "outputs": [],
   "source": [
    "## Observations- as observed above AUC is impacted and Recall is decreased too.. "
   ]
  },
  {
   "cell_type": "markdown",
   "metadata": {},
   "source": [
    "### Random Forest with Class Balance "
   ]
  },
  {
   "cell_type": "markdown",
   "metadata": {},
   "source": [
    "##### Hyperparameter tuning with Smote"
   ]
  },
  {
   "cell_type": "code",
   "execution_count": 61,
   "metadata": {},
   "outputs": [
    {
     "data": {
      "text/plain": [
       "RandomizedSearchCV(cv=5,\n",
       "                   estimator=RandomForestClassifier(class_weight='balanced'),\n",
       "                   param_distributions={'max_depth': range(10, 30, 5),\n",
       "                                        'max_features': [3, 8, 16, 25],\n",
       "                                        'min_samples_leaf': range(100, 400, 50),\n",
       "                                        'min_samples_split': range(50, 300, 50),\n",
       "                                        'n_estimators': range(50, 100, 300)},\n",
       "                   return_train_score=True, scoring='accuracy')"
      ]
     },
     "execution_count": 61,
     "metadata": {},
     "output_type": "execute_result"
    }
   ],
   "source": [
    "rfgs.fit(X_train_smote,y_train_smote.values.ravel())"
   ]
  },
  {
   "cell_type": "code",
   "execution_count": 62,
   "metadata": {},
   "outputs": [
    {
     "name": "stdout",
     "output_type": "stream",
     "text": [
      "We can get accuracy of 0.9908575482589969 using {'n_estimators': 50, 'min_samples_split': 100, 'min_samples_leaf': 150, 'max_features': 3, 'max_depth': 25}\n"
     ]
    }
   ],
   "source": [
    "#Best Parameters\n",
    "\n",
    "print('We can get accuracy of',rfgs.best_score_,'using',rfgs.best_params_)"
   ]
  },
  {
   "cell_type": "code",
   "execution_count": 73,
   "metadata": {},
   "outputs": [],
   "source": [
    "#Building model with best params\n",
    "rfc_smote = RandomForestClassifier(bootstrap=True,class_weight=\"balanced\",\n",
    "                             max_depth=25,\n",
    "                             min_samples_leaf=150, \n",
    "                             min_samples_split=100,\n",
    "                             max_features=3,\n",
    "                             n_estimators=50,\n",
    "                             random_state=10,n_jobs=-1)"
   ]
  },
  {
   "cell_type": "code",
   "execution_count": 74,
   "metadata": {},
   "outputs": [
    {
     "data": {
      "text/plain": [
       "RandomForestClassifier(class_weight='balanced', max_depth=25, max_features=3,\n",
       "                       min_samples_leaf=150, min_samples_split=100,\n",
       "                       n_estimators=50, n_jobs=-1, random_state=10)"
      ]
     },
     "execution_count": 74,
     "metadata": {},
     "output_type": "execute_result"
    }
   ],
   "source": [
    "rfc_smote.fit(X_train_smote,y_train_smote.values.ravel())"
   ]
  },
  {
   "cell_type": "code",
   "execution_count": 141,
   "metadata": {},
   "outputs": [],
   "source": [
    "y_train_smotepred=rfc_smote.predict(X_train_smote)"
   ]
  },
  {
   "cell_type": "code",
   "execution_count": 233,
   "metadata": {},
   "outputs": [
    {
     "name": "stdout",
     "output_type": "stream",
     "text": [
      "Training Model parameters: \n",
      "AUC : 0.9943\n",
      "Recall/Sensitivity : 0.9907\n",
      "Precision : 0.998\n",
      "Accuracy : 0.9943\n"
     ]
    }
   ],
   "source": [
    "#Train performance Metrics\n",
    "print(\"Training Model parameters: \")\n",
    "print (\"AUC : %.4g\" % metrics.roc_auc_score(y_train_smote, y_train_smotepred))\n",
    "print (\"Recall/Sensitivity : %.4g\" % metrics.recall_score(y_train_smote, y_train_smotepred))\n",
    "print (\"Precision : %.4g\" % metrics.precision_score(y_train_smote, y_train_smotepred))\n",
    "print (\"Accuracy : %.4g\" % metrics.accuracy_score(y_train_smote, y_train_smotepred))"
   ]
  },
  {
   "cell_type": "code",
   "execution_count": 157,
   "metadata": {},
   "outputs": [],
   "source": [
    "y_test_smotepred = rfc_smote.predict(X_test_smote)"
   ]
  },
  {
   "cell_type": "code",
   "execution_count": 234,
   "metadata": {},
   "outputs": [
    {
     "name": "stdout",
     "output_type": "stream",
     "text": [
      "Test Model parameters: \n",
      "AUC : 0.9905\n",
      "Recall/Sensitivity : 0.9831\n",
      "Precision : 0.9979\n",
      "Accuracy : 0.9905\n"
     ]
    }
   ],
   "source": [
    "#Test performance Metrics\n",
    "\n",
    "print(\"Test Model parameters: \")\n",
    "print (\"AUC : %.4g\" % metrics.roc_auc_score(y_test_smote, y_test_smotepred))\n",
    "print (\"Recall/Sensitivity : %.4g\" % metrics.recall_score(y_test_smote, y_test_smotepred))\n",
    "print (\"Precision : %.4g\" % metrics.precision_score(y_test_smote, y_test_smotepred))\n",
    "print (\"Accuracy : %.4g\" % metrics.accuracy_score(y_test_smote, y_test_smotepred))"
   ]
  },
  {
   "cell_type": "markdown",
   "metadata": {},
   "source": [
    "### Random Forest Model with  ADASyn"
   ]
  },
  {
   "cell_type": "code",
   "execution_count": 84,
   "metadata": {},
   "outputs": [],
   "source": [
    "#hyper parameter tuning on RandomCV search\n",
    "\n",
    "rfgs_ada = RandomizedSearchCV(rf1, parameters, \n",
    "                    cv=n_folds, return_train_score=True,\n",
    "                   scoring=\"accuracy\",n_jobs=-1)"
   ]
  },
  {
   "cell_type": "code",
   "execution_count": 85,
   "metadata": {},
   "outputs": [
    {
     "data": {
      "text/plain": [
       "RandomizedSearchCV(cv=5,\n",
       "                   estimator=RandomForestClassifier(class_weight='balanced'),\n",
       "                   n_jobs=-1,\n",
       "                   param_distributions={'max_depth': range(10, 30, 5),\n",
       "                                        'max_features': [3, 8, 16, 25],\n",
       "                                        'min_samples_leaf': range(100, 400, 50),\n",
       "                                        'min_samples_split': range(50, 300, 50),\n",
       "                                        'n_estimators': range(50, 100, 300)},\n",
       "                   return_train_score=True, scoring='accuracy')"
      ]
     },
     "execution_count": 85,
     "metadata": {},
     "output_type": "execute_result"
    }
   ],
   "source": [
    "rfgs_ada.fit(X_train_ada,y_train_ada.values.ravel())"
   ]
  },
  {
   "cell_type": "code",
   "execution_count": 86,
   "metadata": {},
   "outputs": [
    {
     "name": "stdout",
     "output_type": "stream",
     "text": [
      "We can get accuracy of 0.9982810214709963 using {'n_estimators': 50, 'min_samples_split': 150, 'min_samples_leaf': 100, 'max_features': 3, 'max_depth': 25}\n"
     ]
    }
   ],
   "source": [
    "#best Params\n",
    "print('We can get accuracy of',rfgs_ada.best_score_,'using',rfgs_ada.best_params_)"
   ]
  },
  {
   "cell_type": "code",
   "execution_count": 87,
   "metadata": {},
   "outputs": [],
   "source": [
    "#Building model with best params\n",
    "rfc_ada = RandomForestClassifier(bootstrap=True,class_weight=\"balanced\",\n",
    "                             max_depth=25,\n",
    "                             min_samples_leaf=100, \n",
    "                             min_samples_split=150,\n",
    "                             max_features=3,\n",
    "                             n_estimators=50,\n",
    "                             random_state=10,n_jobs=-1)"
   ]
  },
  {
   "cell_type": "code",
   "execution_count": 88,
   "metadata": {},
   "outputs": [
    {
     "data": {
      "text/plain": [
       "RandomForestClassifier(class_weight='balanced', max_depth=25, max_features=3,\n",
       "                       min_samples_leaf=100, min_samples_split=150,\n",
       "                       n_estimators=50, n_jobs=-1, random_state=10)"
      ]
     },
     "execution_count": 88,
     "metadata": {},
     "output_type": "execute_result"
    }
   ],
   "source": [
    "rfc_ada.fit(X_train_ada,y_train_ada.values.ravel())"
   ]
  },
  {
   "cell_type": "code",
   "execution_count": 89,
   "metadata": {},
   "outputs": [],
   "source": [
    "y_train_adapred=rfc_ada.predict(X_train_ada)"
   ]
  },
  {
   "cell_type": "code",
   "execution_count": 235,
   "metadata": {
    "scrolled": false
   },
   "outputs": [
    {
     "name": "stdout",
     "output_type": "stream",
     "text": [
      "Training Model parameters: \n",
      "AUC : 0.9988\n",
      "Recall/Sensitivity : 0.9998\n",
      "Precision : 0.9979\n",
      "Accuracy : 0.9988\n"
     ]
    }
   ],
   "source": [
    "#Train performance Metrics\n",
    "print(\"Training Model parameters: \")\n",
    "print (\"AUC : %.4g\" % metrics.roc_auc_score(y_train_ada, y_train_adapred))\n",
    "print (\"Recall/Sensitivity : %.4g\" % metrics.recall_score(y_train_ada, y_train_adapred))\n",
    "print (\"Precision : %.4g\" % metrics.precision_score(y_train_ada, y_train_adapred))\n",
    "print (\"Accuracy : %.4g\" % metrics.accuracy_score(y_train_ada, y_train_adapred))"
   ]
  },
  {
   "cell_type": "code",
   "execution_count": 139,
   "metadata": {},
   "outputs": [],
   "source": [
    "y_test_adapred=rfc_ada.predict(X_test_ada)"
   ]
  },
  {
   "cell_type": "code",
   "execution_count": 236,
   "metadata": {},
   "outputs": [
    {
     "name": "stdout",
     "output_type": "stream",
     "text": [
      "Test Model parameters: \n",
      "AUC : 0.9984\n",
      "Recall/Sensitivity : 0.9994\n",
      "Precision : 0.9974\n",
      "Accuracy : 0.9984\n"
     ]
    }
   ],
   "source": [
    "#Test performance Metrics\n",
    "print(\"Test Model parameters: \")\n",
    "print (\"AUC : %.4g\" % metrics.roc_auc_score(y_test_ada, y_test_adapred))\n",
    "print (\"Recall/Sensitivity : %.4g\" % metrics.recall_score(y_test_ada, y_test_adapred))\n",
    "print (\"Precision : %.4g\" % metrics.precision_score(y_test_ada, y_test_adapred))\n",
    "print (\"Accuracy : %.4g\" % metrics.accuracy_score(y_test_ada, y_test_adapred))"
   ]
  },
  {
   "cell_type": "markdown",
   "metadata": {},
   "source": [
    "## ----- Model 2: XGBoost"
   ]
  },
  {
   "cell_type": "markdown",
   "metadata": {},
   "source": [
    "### With Class Imbalance"
   ]
  },
  {
   "cell_type": "code",
   "execution_count": 96,
   "metadata": {},
   "outputs": [
    {
     "name": "stdout",
     "output_type": "stream",
     "text": [
      "Collecting xgboost\n",
      "  Downloading xgboost-1.2.0-py3-none-win_amd64.whl (86.5 MB)\n",
      "Requirement already satisfied: scipy in c:\\programdata\\anaconda3\\lib\\site-packages (from xgboost) (1.4.1)\n",
      "Requirement already satisfied: numpy in c:\\programdata\\anaconda3\\lib\\site-packages (from xgboost) (1.18.1)\n",
      "Installing collected packages: xgboost\n",
      "Successfully installed xgboost-1.2.0\n"
     ]
    }
   ],
   "source": [
    "!pip install xgboost"
   ]
  },
  {
   "cell_type": "code",
   "execution_count": 97,
   "metadata": {},
   "outputs": [],
   "source": [
    "from xgboost import XGBClassifier"
   ]
  },
  {
   "cell_type": "code",
   "execution_count": 99,
   "metadata": {},
   "outputs": [],
   "source": [
    "#defining range of hyperparameters for hyper parameter tuning on RandomCV search\n",
    "params={\n",
    " \"learning_rate\"    : [0.05, 0.10, 0.15, 0.20, 0.25, 0.30 ] ,\n",
    " \"max_depth\"        : [ 3, 4, 5, 6, 8, 10, 12, 15],\n",
    " \"min_child_weight\" : [ 1, 3, 5, 7 ],\n",
    " \"gamma\"            : [ 0.0, 0.1, 0.2 , 0.3, 0.4 ],\n",
    " \"colsample_bytree\" : [ 0.3, 0.4, 0.5 , 0.7 ]\n",
    "    \n",
    "}"
   ]
  },
  {
   "cell_type": "code",
   "execution_count": 100,
   "metadata": {},
   "outputs": [],
   "source": [
    "from sklearn.model_selection import RandomizedSearchCV, GridSearchCV\n",
    "import xgboost"
   ]
  },
  {
   "cell_type": "code",
   "execution_count": 101,
   "metadata": {},
   "outputs": [],
   "source": [
    "#time function to see how much time it takes for XGboost\n",
    "def timer(start_time=None):\n",
    "    if not start_time:\n",
    "        start_time = datetime.now()\n",
    "        return start_time\n",
    "    elif start_time:\n",
    "        thour, temp_sec = divmod((datetime.now() - start_time).total_seconds(), 3600)\n",
    "        tmin, tsec = divmod(temp_sec, 60)\n",
    "        print('\\n Time taken: %i hours %i minutes and %s seconds.' % (thour, tmin, round(tsec, 2)))"
   ]
  },
  {
   "cell_type": "code",
   "execution_count": 102,
   "metadata": {},
   "outputs": [],
   "source": [
    "classifier=xgboost.XGBClassifier()"
   ]
  },
  {
   "cell_type": "code",
   "execution_count": 104,
   "metadata": {},
   "outputs": [],
   "source": [
    "#hyper parameter tuning on RandomCV search\n",
    "random_search=RandomizedSearchCV(classifier,param_distributions=params,n_iter=5,scoring='roc_auc',n_jobs=-1,cv=5,verbose=3)"
   ]
  },
  {
   "cell_type": "code",
   "execution_count": 105,
   "metadata": {},
   "outputs": [
    {
     "name": "stdout",
     "output_type": "stream",
     "text": [
      "Fitting 5 folds for each of 5 candidates, totalling 25 fits\n"
     ]
    },
    {
     "name": "stderr",
     "output_type": "stream",
     "text": [
      "[Parallel(n_jobs=-1)]: Using backend LokyBackend with 12 concurrent workers.\n",
      "[Parallel(n_jobs=-1)]: Done  11 out of  25 | elapsed:  2.0min remaining:  2.5min\n",
      "[Parallel(n_jobs=-1)]: Done  20 out of  25 | elapsed:  2.9min remaining:   43.5s\n",
      "[Parallel(n_jobs=-1)]: Done  25 out of  25 | elapsed:  3.2min finished\n"
     ]
    },
    {
     "name": "stdout",
     "output_type": "stream",
     "text": [
      "\n",
      " Time taken: 0 hours 3 minutes and 23.24 seconds.\n"
     ]
    }
   ],
   "source": [
    "from datetime import datetime\n",
    "# Here we go\n",
    "start_time = timer(None) # timing starts from this point for \"start_time\" variable\n",
    "random_search.fit(X_train,y_train.values.ravel())\n",
    "timer(start_time) # timing ends here for \"start_time\" variable"
   ]
  },
  {
   "cell_type": "code",
   "execution_count": 106,
   "metadata": {},
   "outputs": [
    {
     "data": {
      "text/plain": [
       "XGBClassifier(base_score=0.5, booster='gbtree', colsample_bylevel=1,\n",
       "              colsample_bynode=1, colsample_bytree=0.7, gamma=0.4, gpu_id=-1,\n",
       "              importance_type='gain', interaction_constraints='',\n",
       "              learning_rate=0.15, max_delta_step=0, max_depth=4,\n",
       "              min_child_weight=5, missing=nan, monotone_constraints='()',\n",
       "              n_estimators=100, n_jobs=0, num_parallel_tree=1, random_state=0,\n",
       "              reg_alpha=0, reg_lambda=1, scale_pos_weight=1, subsample=1,\n",
       "              tree_method='exact', validate_parameters=1, verbosity=None)"
      ]
     },
     "execution_count": 106,
     "metadata": {},
     "output_type": "execute_result"
    }
   ],
   "source": [
    "#Best Parameters\n",
    "random_search.best_estimator_"
   ]
  },
  {
   "cell_type": "code",
   "execution_count": 107,
   "metadata": {},
   "outputs": [
    {
     "data": {
      "text/plain": [
       "{'min_child_weight': 5,\n",
       " 'max_depth': 4,\n",
       " 'learning_rate': 0.15,\n",
       " 'gamma': 0.4,\n",
       " 'colsample_bytree': 0.7}"
      ]
     },
     "execution_count": 107,
     "metadata": {},
     "output_type": "execute_result"
    }
   ],
   "source": [
    "random_search.best_params_"
   ]
  },
  {
   "cell_type": "code",
   "execution_count": 109,
   "metadata": {},
   "outputs": [],
   "source": [
    "#Building model with best params\n",
    "classifier=xgboost.XGBClassifier(base_score=0.5, booster='gbtree', colsample_bylevel=1,\n",
    "              colsample_bynode=1, colsample_bytree=0.7, gamma=0.4, gpu_id=-1,\n",
    "              importance_type='gain', interaction_constraints='',\n",
    "              learning_rate=0.15, max_delta_step=0, max_depth=4,\n",
    "              min_child_weight=5, missing=None, monotone_constraints='()',\n",
    "              n_estimators=100, n_jobs=0, num_parallel_tree=1, random_state=0,\n",
    "              reg_alpha=0, reg_lambda=1, scale_pos_weight=1, subsample=1,\n",
    "              tree_method='exact', validate_parameters=1, verbosity=None)"
   ]
  },
  {
   "cell_type": "code",
   "execution_count": 120,
   "metadata": {},
   "outputs": [
    {
     "name": "stdout",
     "output_type": "stream",
     "text": [
      "\n",
      " Time taken: 0 hours 0 minutes and 18.65 seconds.\n"
     ]
    }
   ],
   "source": [
    "start_time = timer(None)\n",
    "temp=classifier.fit(X_train,y_train.values.ravel())\n",
    "timer(start_time) # timing ends here for \"start_time\" variable"
   ]
  },
  {
   "cell_type": "code",
   "execution_count": 123,
   "metadata": {},
   "outputs": [],
   "source": [
    "#for future use\n",
    "fet=temp.get_booster()"
   ]
  },
  {
   "cell_type": "code",
   "execution_count": 146,
   "metadata": {},
   "outputs": [],
   "source": [
    "y_trainxg_predict=classifier.predict(X_train)"
   ]
  },
  {
   "cell_type": "markdown",
   "metadata": {},
   "source": [
    "###---#Training performance Metrics"
   ]
  },
  {
   "cell_type": "code",
   "execution_count": 237,
   "metadata": {},
   "outputs": [
    {
     "name": "stdout",
     "output_type": "stream",
     "text": [
      "Train Model parameters: \n",
      "AUC : 0.9314\n",
      "Recall/Sensitivity : 0.8629\n",
      "Precision : 0.9938\n",
      "Accuracy : 0.9998\n"
     ]
    }
   ],
   "source": [
    "print(\"Train Model parameters: \")\n",
    "print (\"AUC : %.4g\" % metrics.roc_auc_score(y_train, y_trainxg_predict))\n",
    "print (\"Recall/Sensitivity : %.4g\" % metrics.recall_score(y_train, y_trainxg_predict))\n",
    "print (\"Precision : %.4g\" % metrics.precision_score(y_train, y_trainxg_predict))\n",
    "print (\"Accuracy : %.4g\" % metrics.accuracy_score(y_train, y_trainxg_predict))"
   ]
  },
  {
   "cell_type": "code",
   "execution_count": 147,
   "metadata": {},
   "outputs": [],
   "source": [
    "y_testxg_predict=classifier.predict(X_test)"
   ]
  },
  {
   "cell_type": "code",
   "execution_count": 238,
   "metadata": {},
   "outputs": [
    {
     "name": "stdout",
     "output_type": "stream",
     "text": [
      "Test Model parameters: \n",
      "AUC: 0.8958\n",
      "Recall/Sensitivity : 0.7917\n",
      "Precision : 0.9314\n",
      "Accuracy : 0.9996\n"
     ]
    }
   ],
   "source": [
    "#Test performance Metrics\n",
    "\n",
    "print(\"Test Model parameters: \")\n",
    "print (\"AUC: %.4g\" % metrics.roc_auc_score(y_test, y_testxg_predict))\n",
    "print (\"Recall/Sensitivity : %.4g\" % metrics.recall_score(y_test, y_testxg_predict))\n",
    "print (\"Precision : %.4g\" % metrics.precision_score(y_test,y_testxg_predict))\n",
    "print (\"Accuracy : %.4g\" % metrics.accuracy_score(y_test,y_testxg_predict))"
   ]
  },
  {
   "cell_type": "markdown",
   "metadata": {},
   "source": [
    "### XGBoost with Smote"
   ]
  },
  {
   "cell_type": "code",
   "execution_count": 151,
   "metadata": {},
   "outputs": [
    {
     "name": "stdout",
     "output_type": "stream",
     "text": [
      "Fitting 5 folds for each of 5 candidates, totalling 25 fits\n"
     ]
    },
    {
     "name": "stderr",
     "output_type": "stream",
     "text": [
      "[Parallel(n_jobs=-1)]: Using backend LokyBackend with 12 concurrent workers.\n",
      "[Parallel(n_jobs=-1)]: Done  11 out of  25 | elapsed: 12.1min remaining: 15.3min\n",
      "[Parallel(n_jobs=-1)]: Done  20 out of  25 | elapsed: 18.3min remaining:  4.6min\n",
      "[Parallel(n_jobs=-1)]: Done  25 out of  25 | elapsed: 18.9min finished\n"
     ]
    },
    {
     "name": "stdout",
     "output_type": "stream",
     "text": [
      "\n",
      " Time taken: 0 hours 19 minutes and 48.49 seconds.\n"
     ]
    }
   ],
   "source": [
    "\n",
    "start_time = timer(None) # timing starts from this point for \"start_time\" variable\n",
    "\n",
    "#hyper parameter tuning on RandomCV search\n",
    "\n",
    "random_search_smote=RandomizedSearchCV(classifier,param_distributions=params,n_iter=5,scoring='roc_auc',n_jobs=-1,cv=5,verbose=3)\n",
    "\n",
    "random_search_smote.fit(X_train_smote,y_train_smote.values.ravel())\n",
    "\n",
    "timer(start_time) # timing ends here for \"start_time\" variable"
   ]
  },
  {
   "cell_type": "code",
   "execution_count": 152,
   "metadata": {},
   "outputs": [
    {
     "data": {
      "text/plain": [
       "XGBClassifier(base_score=0.5, booster='gbtree', colsample_bylevel=1,\n",
       "              colsample_bynode=1, colsample_bytree=0.3, gamma=0.1, gpu_id=-1,\n",
       "              importance_type='gain', interaction_constraints='',\n",
       "              learning_rate=0.3, max_delta_step=0, max_depth=12,\n",
       "              min_child_weight=3, missing=None, monotone_constraints='()',\n",
       "              n_estimators=100, n_jobs=0, num_parallel_tree=1, random_state=0,\n",
       "              reg_alpha=0, reg_lambda=1, scale_pos_weight=1, subsample=1,\n",
       "              tree_method='exact', validate_parameters=1, verbosity=None)"
      ]
     },
     "execution_count": 152,
     "metadata": {},
     "output_type": "execute_result"
    }
   ],
   "source": [
    "#Best Parameters\n",
    "random_search_smote.best_estimator_"
   ]
  },
  {
   "cell_type": "code",
   "execution_count": 153,
   "metadata": {},
   "outputs": [],
   "source": [
    "#Building model with best params\n",
    "classifier_smote=xgboost.XGBClassifier(base_score=0.5, booster='gbtree', colsample_bylevel=1,\n",
    "              colsample_bynode=1, colsample_bytree=0.3, gamma=0.1, gpu_id=-1,\n",
    "              importance_type='gain', interaction_constraints='',\n",
    "              learning_rate=0.3, max_delta_step=0, max_depth=12,\n",
    "              min_child_weight=3, missing=None, monotone_constraints='()',\n",
    "              n_estimators=100, n_jobs=0, num_parallel_tree=1, random_state=0,\n",
    "              reg_alpha=0, reg_lambda=1, scale_pos_weight=1, subsample=1,\n",
    "              tree_method='exact', validate_parameters=1, verbosity=None)"
   ]
  },
  {
   "cell_type": "code",
   "execution_count": 154,
   "metadata": {},
   "outputs": [
    {
     "name": "stdout",
     "output_type": "stream",
     "text": [
      "\n",
      " Time taken: 0 hours 0 minutes and 49.53 seconds.\n"
     ]
    }
   ],
   "source": [
    "start_time = timer(None)\n",
    "classifier_smote.fit(X_train_smote,y_train_smote.values.ravel())\n",
    "timer(start_time) # "
   ]
  },
  {
   "cell_type": "code",
   "execution_count": 196,
   "metadata": {},
   "outputs": [
    {
     "name": "stdout",
     "output_type": "stream",
     "text": [
      "Training Model parameters: \n",
      "AUC : 1\n",
      "Recall/Sensitivity : 1\n",
      "Precision : 1\n",
      "Accuracy : 1\n"
     ]
    }
   ],
   "source": [
    "#Train performance Metrics\n",
    "\n",
    "y_train_xgsmotepred=classifier_smote.predict(X_train_smote)\n",
    "print(\"Training Model parameters: \")\n",
    "print (\"AUC : %.4g\" % metrics.roc_auc_score(y_train_smote, y_train_xgsmotepred))\n",
    "print (\"Recall/Sensitivity : %.4g\" % metrics.recall_score(y_train_smote,y_train_xgsmotepred))\n",
    "print (\"Precision : %.4g\" % metrics.precision_score(y_train_smote,y_train_xgsmotepred))\n",
    "print (\"Accuracy : %.4g\" % metrics.accuracy_score(y_train_smote,y_train_xgsmotepred))"
   ]
  },
  {
   "cell_type": "code",
   "execution_count": 195,
   "metadata": {},
   "outputs": [
    {
     "name": "stdout",
     "output_type": "stream",
     "text": [
      "Test Model parameters: \n",
      "AUC : 0.9996\n",
      "Recall/Sensitivity : 0.9997\n",
      "Precision : 0.9995\n",
      "Accuracy : 0.9996\n"
     ]
    }
   ],
   "source": [
    "#Test performance Metric\n",
    "y_test_xgsmotepred = classifier_smote.predict(X_test_smote)\n",
    "print(\"Test Model parameters: \")\n",
    "print (\"AUC : %.4g\" % metrics.roc_auc_score(y_test_smote, y_test_xgsmotepred))\n",
    "print (\"Recall/Sensitivity : %.4g\" % metrics.recall_score(y_test_smote, y_test_xgsmotepred))\n",
    "print (\"Precision : %.4g\" % metrics.precision_score(y_test_smote, y_test_xgsmotepred))\n",
    "print (\"Accuracy : %.4g\" % metrics.accuracy_score(y_test_smote, y_test_xgsmotepred))"
   ]
  },
  {
   "cell_type": "markdown",
   "metadata": {},
   "source": [
    "## XGBoost with Ada"
   ]
  },
  {
   "cell_type": "code",
   "execution_count": 159,
   "metadata": {},
   "outputs": [
    {
     "name": "stdout",
     "output_type": "stream",
     "text": [
      "Fitting 5 folds for each of 5 candidates, totalling 25 fits\n"
     ]
    },
    {
     "name": "stderr",
     "output_type": "stream",
     "text": [
      "[Parallel(n_jobs=-1)]: Using backend LokyBackend with 12 concurrent workers.\n",
      "[Parallel(n_jobs=-1)]: Done  11 out of  25 | elapsed:  7.1min remaining:  9.1min\n",
      "[Parallel(n_jobs=-1)]: Done  20 out of  25 | elapsed: 16.2min remaining:  4.1min\n",
      "[Parallel(n_jobs=-1)]: Done  25 out of  25 | elapsed: 17.2min finished\n"
     ]
    },
    {
     "name": "stdout",
     "output_type": "stream",
     "text": [
      "\n",
      " Time taken: 0 hours 17 minutes and 43.39 seconds.\n"
     ]
    }
   ],
   "source": [
    "start_time = timer(None) # timing starts from this point for \"start_time\" variable\n",
    "\n",
    "#hyper parameter tuning on RandomCV search\n",
    "random_search_ada=RandomizedSearchCV(classifier,param_distributions=params,n_iter=5,scoring='roc_auc',n_jobs=-1,cv=5,verbose=3)\n",
    "random_search_ada.fit(X_train_ada,y_train_ada.values.ravel())\n",
    "\n",
    "timer(start_time) # timing ends here for \"start_time\" variable"
   ]
  },
  {
   "cell_type": "code",
   "execution_count": 160,
   "metadata": {},
   "outputs": [
    {
     "data": {
      "text/plain": [
       "XGBClassifier(base_score=0.5, booster='gbtree', colsample_bylevel=1,\n",
       "              colsample_bynode=1, colsample_bytree=0.7, gamma=0.4, gpu_id=-1,\n",
       "              importance_type='gain', interaction_constraints='',\n",
       "              learning_rate=0.15, max_delta_step=0, max_depth=4,\n",
       "              min_child_weight=5, missing=nan, monotone_constraints='()',\n",
       "              n_estimators=100, n_jobs=0, num_parallel_tree=1, random_state=0,\n",
       "              reg_alpha=0, reg_lambda=1, scale_pos_weight=1, subsample=1,\n",
       "              tree_method='exact', validate_parameters=1, verbosity=None)"
      ]
     },
     "execution_count": 160,
     "metadata": {},
     "output_type": "execute_result"
    }
   ],
   "source": [
    "#Best Parameters\n",
    "random_search.best_estimator_"
   ]
  },
  {
   "cell_type": "code",
   "execution_count": 163,
   "metadata": {},
   "outputs": [],
   "source": [
    "#Building model with best params\n",
    "classifier_ada=xgboost.XGBClassifier(base_score=0.5, booster='gbtree', colsample_bylevel=1,\n",
    "              colsample_bynode=1, colsample_bytree=0.7, gamma=0.4, gpu_id=-1,\n",
    "              importance_type='gain', interaction_constraints='',\n",
    "              learning_rate=0.15, max_delta_step=0, max_depth=4,\n",
    "              min_child_weight=5, missing=None, monotone_constraints='()',\n",
    "              n_estimators=100, n_jobs=0, num_parallel_tree=1, random_state=0,\n",
    "              reg_alpha=0, reg_lambda=1, scale_pos_weight=1, subsample=1,\n",
    "              tree_method='exact', validate_parameters=1, verbosity=None)"
   ]
  },
  {
   "cell_type": "code",
   "execution_count": 164,
   "metadata": {},
   "outputs": [
    {
     "name": "stdout",
     "output_type": "stream",
     "text": [
      "\n",
      " Time taken: 0 hours 0 minutes and 22.2 seconds.\n"
     ]
    }
   ],
   "source": [
    "start_time = timer(None)\n",
    "classifier_ada.fit(X_train_ada,y_train_ada.values.ravel())\n",
    "timer(start_time) # "
   ]
  },
  {
   "cell_type": "code",
   "execution_count": 239,
   "metadata": {},
   "outputs": [
    {
     "name": "stdout",
     "output_type": "stream",
     "text": [
      "Training Model parameters: \n",
      "AUC : 0.9959\n",
      "Recall/Sensitivity : 0.9997\n",
      "Precision : 0.9921\n",
      "Accuracy : 0.9959\n"
     ]
    }
   ],
   "source": [
    "#Train performance Metrics\n",
    "y_train_xgadapred=classifier_ada.predict(X_train_ada)\n",
    "print(\"Training Model parameters: \")\n",
    "print (\"AUC : %.4g\" % metrics.roc_auc_score(y_train_ada, y_train_xgadapred))\n",
    "print (\"Recall/Sensitivity : %.4g\" % metrics.recall_score(y_train_ada, y_train_xgadapred))\n",
    "print (\"Precision : %.4g\" % metrics.precision_score(y_train_ada, y_train_xgadapred))\n",
    "print (\"Accuracy : %.4g\" % metrics.accuracy_score(y_train_ada, y_train_xgadapred))"
   ]
  },
  {
   "cell_type": "code",
   "execution_count": 241,
   "metadata": {},
   "outputs": [
    {
     "name": "stdout",
     "output_type": "stream",
     "text": [
      "Test Model parameters: \n",
      "AUC : 0.9945\n",
      "Recall/Sensitivity : 0.9986\n",
      "Precision : 0.9904\n",
      "Accuracy : 0.9945\n",
      "Threshold 0.6036003\n"
     ]
    }
   ],
   "source": [
    "#Test performance Metrics\n",
    "y_test_xgadapred = classifier_ada.predict(X_test_ada)\n",
    "print(\"Test Model parameters: \")\n",
    "print (\"AUC : %.4g\" % metrics.roc_auc_score(y_test_ada, y_test_xgadapred))\n",
    "print (\"Recall/Sensitivity : %.4g\" % metrics.recall_score(y_test_ada, y_test_xgadapred))\n",
    "print (\"Precision : %.4g\" % metrics.precision_score(y_test_ada, y_test_xgadapred))\n",
    "print (\"Accuracy : %.4g\" % metrics.accuracy_score(y_test_ada, y_test_xgadapred))\n",
    "\n",
    "###try\n",
    "probs = classifier_ada.predict_proba(X_test_ada)\n",
    "preds = probs[:,1]\n",
    "fpr, tpr, thresholds = metrics.roc_curve(y_test_ada, preds)\n",
    "threshold = thresholds[np.argmax(tpr-fpr)]\n",
    "print(\"Threshold\",threshold)"
   ]
  },
  {
   "cell_type": "markdown",
   "metadata": {},
   "source": [
    "### Model 3: Decison Tree"
   ]
  },
  {
   "cell_type": "markdown",
   "metadata": {},
   "source": [
    "##### Class Imbalance"
   ]
  },
  {
   "cell_type": "code",
   "execution_count": 271,
   "metadata": {},
   "outputs": [],
   "source": [
    "#hyper parameter tuning on RandomCV search\n",
    "\n",
    "from scipy.stats import randint \n",
    "from sklearn import tree\n",
    "dec_tree = tree.DecisionTreeClassifier()\n",
    "\n",
    "param_dist = {\"max_depth\": [2,4,6,8], \n",
    "              \"max_features\": randint(1, 9), \n",
    "              \"min_samples_leaf\": randint(1, 9), \n",
    "              \"criterion\": [\"gini\", \"entropy\"]} "
   ]
  },
  {
   "cell_type": "code",
   "execution_count": 274,
   "metadata": {},
   "outputs": [],
   "source": [
    "tree_cv = RandomizedSearchCV(dec_tree, param_dist, cv = 5, n_jobs=-1) "
   ]
  },
  {
   "cell_type": "code",
   "execution_count": 283,
   "metadata": {},
   "outputs": [
    {
     "data": {
      "text/plain": [
       "RandomizedSearchCV(cv=5, estimator=DecisionTreeClassifier(), n_jobs=-1,\n",
       "                   param_distributions={'criterion': ['gini', 'entropy'],\n",
       "                                        'max_depth': [2, 4, 6, 8],\n",
       "                                        'max_features': <scipy.stats._distn_infrastructure.rv_frozen object at 0x0000028793D52B08>,\n",
       "                                        'min_samples_leaf': <scipy.stats._distn_infrastructure.rv_frozen object at 0x000002878527EB88>})"
      ]
     },
     "execution_count": 283,
     "metadata": {},
     "output_type": "execute_result"
    }
   ],
   "source": [
    "tree_cv.fit(X_train, y_train.values.ravel()) "
   ]
  },
  {
   "cell_type": "code",
   "execution_count": 276,
   "metadata": {},
   "outputs": [
    {
     "data": {
      "text/plain": [
       "{'criterion': 'entropy',\n",
       " 'max_depth': 8,\n",
       " 'max_features': 7,\n",
       " 'min_samples_leaf': 4}"
      ]
     },
     "execution_count": 276,
     "metadata": {},
     "output_type": "execute_result"
    }
   ],
   "source": [
    "#Best Parameters\n",
    "\n",
    "tree_cv.best_params_"
   ]
  },
  {
   "cell_type": "code",
   "execution_count": 284,
   "metadata": {},
   "outputs": [],
   "source": [
    "#Building model with best params\n",
    "\n",
    "dtree=tree.DecisionTreeClassifier(criterion= 'entropy', max_depth= 8, max_features= 7,min_samples_leaf= 4)"
   ]
  },
  {
   "cell_type": "code",
   "execution_count": 285,
   "metadata": {},
   "outputs": [
    {
     "data": {
      "text/plain": [
       "DecisionTreeClassifier(criterion='entropy', max_depth=8, max_features=7,\n",
       "                       min_samples_leaf=4)"
      ]
     },
     "execution_count": 285,
     "metadata": {},
     "output_type": "execute_result"
    }
   ],
   "source": [
    "dtree.fit(X_train, y_train.values.ravel())"
   ]
  },
  {
   "cell_type": "code",
   "execution_count": 286,
   "metadata": {},
   "outputs": [],
   "source": [
    "y_train_predictdt=dtree.predict(X_train)"
   ]
  },
  {
   "cell_type": "code",
   "execution_count": 287,
   "metadata": {},
   "outputs": [],
   "source": [
    "y_test_predictdt=dtree.predict(X_test)"
   ]
  },
  {
   "cell_type": "code",
   "execution_count": 288,
   "metadata": {},
   "outputs": [
    {
     "name": "stdout",
     "output_type": "stream",
     "text": [
      "Train Model parameters: \n",
      "AUC : 0.9113\n",
      "Recall/Sensitivity : 0.8226\n",
      "Precision : 0.9623\n",
      "Accuracy : 0.9996\n"
     ]
    }
   ],
   "source": [
    "\n",
    "#Train performance Metrics\n",
    "\n",
    "print(\"Train Model parameters: \")\n",
    "print (\"AUC : %.4g\" % metrics.roc_auc_score(y_train, y_train_predictdt))\n",
    "print (\"Recall/Sensitivity : %.4g\" % metrics.recall_score(y_train, y_train_predictdt))\n",
    "print (\"Precision : %.4g\" % metrics.precision_score(y_train,y_train_predictdt))\n",
    "print (\"Accuracy : %.4g\" % metrics.accuracy_score(y_train, y_train_predictdt))"
   ]
  },
  {
   "cell_type": "code",
   "execution_count": 289,
   "metadata": {},
   "outputs": [
    {
     "name": "stdout",
     "output_type": "stream",
     "text": [
      "Test Model parameters: \n",
      "AUC : 0.8874\n",
      "Recall/Sensitivity : 0.775\n",
      "Precision : 0.8692\n",
      "Accuracy : 0.9994\n"
     ]
    }
   ],
   "source": [
    "\n",
    "#Test performance Metrics\n",
    "\n",
    "print(\"Test Model parameters: \")\n",
    "print (\"AUC : %.4g\" % metrics.roc_auc_score(y_test, y_test_predictdt))\n",
    "print (\"Recall/Sensitivity : %.4g\" % metrics.recall_score(y_test, y_test_predictdt))\n",
    "print (\"Precision : %.4g\" % metrics.precision_score(y_test, y_test_predictdt))\n",
    "print (\"Accuracy : %.4g\" % metrics.accuracy_score(y_test, y_test_predictdt))"
   ]
  },
  {
   "cell_type": "markdown",
   "metadata": {},
   "source": [
    "### Decision Tree with Smote Class balance"
   ]
  },
  {
   "cell_type": "code",
   "execution_count": 277,
   "metadata": {},
   "outputs": [
    {
     "data": {
      "text/plain": [
       "RandomizedSearchCV(cv=5, estimator=DecisionTreeClassifier(), n_jobs=-1,\n",
       "                   param_distributions={'criterion': ['gini', 'entropy'],\n",
       "                                        'max_depth': [2, 4, 6, 8],\n",
       "                                        'max_features': <scipy.stats._distn_infrastructure.rv_frozen object at 0x0000028793D52B08>,\n",
       "                                        'min_samples_leaf': <scipy.stats._distn_infrastructure.rv_frozen object at 0x000002878527EB88>})"
      ]
     },
     "execution_count": 277,
     "metadata": {},
     "output_type": "execute_result"
    }
   ],
   "source": [
    "#hyper parameter tuning on RandomCV search\n",
    "\n",
    "tree_cv_smote = RandomizedSearchCV(dec_tree, param_dist, cv = 5, n_jobs=-1) \n",
    "tree_cv_smote.fit(X_train_smote, y_train_smote) "
   ]
  },
  {
   "cell_type": "code",
   "execution_count": 278,
   "metadata": {},
   "outputs": [
    {
     "data": {
      "text/plain": [
       "{'criterion': 'gini', 'max_depth': 8, 'max_features': 5, 'min_samples_leaf': 4}"
      ]
     },
     "execution_count": 278,
     "metadata": {},
     "output_type": "execute_result"
    }
   ],
   "source": [
    "#Best Parameters\n",
    "tree_cv_smote.best_params_"
   ]
  },
  {
   "cell_type": "code",
   "execution_count": 290,
   "metadata": {},
   "outputs": [],
   "source": [
    "#Building model with best params\n",
    "dtree_smote=tree.DecisionTreeClassifier(criterion= 'gini', max_depth= 8, max_features= 5, min_samples_leaf= 4)"
   ]
  },
  {
   "cell_type": "code",
   "execution_count": 291,
   "metadata": {},
   "outputs": [
    {
     "data": {
      "text/plain": [
       "DecisionTreeClassifier(max_depth=8, max_features=5, min_samples_leaf=4)"
      ]
     },
     "execution_count": 291,
     "metadata": {},
     "output_type": "execute_result"
    }
   ],
   "source": [
    "dtree_smote.fit(X_train_smote, y_train_smote.values.ravel())"
   ]
  },
  {
   "cell_type": "code",
   "execution_count": 292,
   "metadata": {},
   "outputs": [],
   "source": [
    "\n",
    "y_train_predictdtsm=dtree_smote.predict(X_train_smote)\n",
    "y_test_predictdtsm=dtree_smote.predict(X_test_smote)"
   ]
  },
  {
   "cell_type": "code",
   "execution_count": 293,
   "metadata": {},
   "outputs": [
    {
     "name": "stdout",
     "output_type": "stream",
     "text": [
      "Train Model parameters: \n",
      "AUC : 0.9637\n",
      "Recall/Sensitivity : 0.9399\n",
      "Precision : 0.9869\n",
      "Accuracy : 0.9638\n"
     ]
    }
   ],
   "source": [
    "#Train performance Metrics\n",
    "print(\"Train Model parameters: \")\n",
    "print (\"AUC : %.4g\" % metrics.roc_auc_score(y_train_smote, y_train_predictdtsm))\n",
    "print (\"Recall/Sensitivity : %.4g\" % metrics.recall_score(y_train_smote, y_train_predictdtsm))\n",
    "print (\"Precision : %.4g\" % metrics.precision_score(y_train_smote, y_train_predictdtsm))\n",
    "print (\"Accuracy : %.4g\" % metrics.accuracy_score(y_train_smote, y_train_predictdtsm))"
   ]
  },
  {
   "cell_type": "code",
   "execution_count": 294,
   "metadata": {},
   "outputs": [
    {
     "name": "stdout",
     "output_type": "stream",
     "text": [
      "Test Model parameters: \n",
      "AUC : 0.9618\n",
      "Recall/Sensitivity : 0.9359\n",
      "Precision : 0.9871\n",
      "Accuracy : 0.9617\n"
     ]
    }
   ],
   "source": [
    "#Test performance Metrics\n",
    "\n",
    "print(\"Test Model parameters: \")\n",
    "print (\"AUC : %.4g\" % metrics.roc_auc_score(y_test_smote, y_test_predictdtsm))\n",
    "print (\"Recall/Sensitivity : %.4g\" % metrics.recall_score(y_test_smote, y_test_predictdtsm))\n",
    "print (\"Precision : %.4g\" % metrics.precision_score(y_test_smote, y_test_predictdtsm))\n",
    "print (\"Accuracy : %.4g\" % metrics.accuracy_score(y_test_smote, y_test_predictdtsm))"
   ]
  },
  {
   "cell_type": "markdown",
   "metadata": {},
   "source": [
    "#### Decison Tree with Adasyn Class Balance"
   ]
  },
  {
   "cell_type": "code",
   "execution_count": 279,
   "metadata": {},
   "outputs": [
    {
     "data": {
      "text/plain": [
       "RandomizedSearchCV(cv=5, estimator=DecisionTreeClassifier(), n_jobs=-1,\n",
       "                   param_distributions={'criterion': ['gini', 'entropy'],\n",
       "                                        'max_depth': [2, 4, 6, 8],\n",
       "                                        'max_features': <scipy.stats._distn_infrastructure.rv_frozen object at 0x0000028793D52B08>,\n",
       "                                        'min_samples_leaf': <scipy.stats._distn_infrastructure.rv_frozen object at 0x000002878527EB88>})"
      ]
     },
     "execution_count": 279,
     "metadata": {},
     "output_type": "execute_result"
    }
   ],
   "source": [
    "#hyper parameter tuning on RandomCV search\n",
    "\n",
    "tree_cv_ada = RandomizedSearchCV(dec_tree, param_dist, cv = 5, n_jobs=-1) \n",
    "tree_cv_ada.fit(X_train_ada, y_train_ada) "
   ]
  },
  {
   "cell_type": "code",
   "execution_count": 295,
   "metadata": {},
   "outputs": [
    {
     "data": {
      "text/plain": [
       "{'criterion': 'gini', 'max_depth': 8, 'max_features': 7, 'min_samples_leaf': 5}"
      ]
     },
     "execution_count": 295,
     "metadata": {},
     "output_type": "execute_result"
    }
   ],
   "source": [
    "#Best Parameters\n",
    "tree_cv_ada.best_params_"
   ]
  },
  {
   "cell_type": "code",
   "execution_count": 297,
   "metadata": {},
   "outputs": [],
   "source": [
    "#Building model with best params\n",
    "dtree_ada=tree.DecisionTreeClassifier(criterion= 'gini', max_depth= 8, max_features= 7, min_samples_leaf= 5)"
   ]
  },
  {
   "cell_type": "code",
   "execution_count": 298,
   "metadata": {},
   "outputs": [
    {
     "data": {
      "text/plain": [
       "DecisionTreeClassifier(max_depth=8, max_features=7, min_samples_leaf=5)"
      ]
     },
     "execution_count": 298,
     "metadata": {},
     "output_type": "execute_result"
    }
   ],
   "source": [
    "dtree_ada.fit(X_train_ada, y_train_ada.values.ravel())"
   ]
  },
  {
   "cell_type": "code",
   "execution_count": 301,
   "metadata": {},
   "outputs": [],
   "source": [
    "y_train_predictdtada=dtree_smote.predict(X_train_ada)\n",
    "y_test_predictdtada=dtree_smote.predict(X_test_ada)"
   ]
  },
  {
   "cell_type": "code",
   "execution_count": 302,
   "metadata": {},
   "outputs": [
    {
     "name": "stdout",
     "output_type": "stream",
     "text": [
      "Train Model parameters: \n",
      "AUC : 0.8523\n",
      "Recall/Sensitivity : 0.7453\n",
      "Precision : 0.948\n",
      "Accuracy : 0.8523\n"
     ]
    }
   ],
   "source": [
    "#Train performance Metrics\n",
    "\n",
    "print(\"Train Model parameters: \")\n",
    "print (\"AUC : %.4g\" % metrics.roc_auc_score(y_train_ada, y_train_predictdtada))\n",
    "print (\"Recall/Sensitivity : %.4g\" % metrics.recall_score(y_train_ada, y_train_predictdtada))\n",
    "print (\"Precision : %.4g\" % metrics.precision_score(y_train_ada, y_train_predictdtada))\n",
    "print (\"Accuracy : %.4g\" % metrics.accuracy_score(y_train_ada, y_train_predictdtada))"
   ]
  },
  {
   "cell_type": "code",
   "execution_count": 303,
   "metadata": {},
   "outputs": [
    {
     "name": "stdout",
     "output_type": "stream",
     "text": [
      "Test Model parameters: \n",
      "AUC : 0.8548\n",
      "Recall/Sensitivity : 0.7508\n",
      "Precision : 0.948\n",
      "Accuracy : 0.8546\n"
     ]
    }
   ],
   "source": [
    "#Test performance Metrics\n",
    "\n",
    "print(\"Test Model parameters: \")\n",
    "print (\"AUC : %.4g\" % metrics.roc_auc_score(y_test_ada, y_test_predictdtada))\n",
    "print (\"Recall/Sensitivity : %.4g\" % metrics.recall_score(y_test_ada, y_test_predictdtada))\n",
    "print (\"Precision : %.4g\" % metrics.precision_score(y_test_ada, y_test_predictdtada))\n",
    "print (\"Accuracy : %.4g\" % metrics.accuracy_score(y_test_ada, y_test_predictdtada))"
   ]
  },
  {
   "cell_type": "markdown",
   "metadata": {},
   "source": [
    "##### Model Analysis Below:"
   ]
  },
  {
   "attachments": {},
   "cell_type": "markdown",
   "metadata": {},
   "source": [
    "(Summary View of all the models)\n",
    "\n",
    "XGBoost:\n",
    "           | Imbalance   |SMOTE     |Adasyn     |\n",
    "           |Train |Test  |Train|Test|Train |Test|  \n",
    "    |AUC   |0.9314|0.8958|1|0.9996|0.9959|0.9945|\n",
    "    |Recall|0.8629|0.7917|1|0.9997|0.9997|0.9986|\n",
    " |Precision|0.9938|0.9314|1|0.9995|0.9921|0.9904|\n",
    "  |Accuracy|0.9998|0.9996|1|0.9996|0.9959|0.9945|\n",
    "\n",
    "Random Forest:\n",
    "           | Imbalance   |SMOTE        |Adasyn       |\n",
    "           |Train |Test  |Train |Test  |Train |Test  |\n",
    "       |AUC|0.9964|0.9241|0.9943|0.9905|0.9988|0.9984|\n",
    "      |Recall|0.9946|0.85|0.9907|0.9831|0.9998|0.9994|\n",
    "  |Precision|0.4818|0.4359|0.998|0.9979|0.9979|0.9974|\n",
    "   |Accuracy|0.9981|0.9979|0.9943|0.9905|0.9988|0.9984|\n",
    "\n",
    "\n",
    "Decision Tree:\n",
    "           | Imbalance   |SMOTE        |Adasyn       |\n",
    "           |Train |Test  |Train |Test  |Train |Test  |\n",
    "       |AUC|0.9113|0.8874|0.9637|0.9618|0.8523|0.8548|\n",
    "    |Recall|0.8226|0.775|0.9399|0.9359|0.7453|0.7508 |\n",
    " |Precision|0.9623|0.8692|0.9869|0.9871|0.948|0.948  |\n",
    "  |Accuracy|0.9996|0.9994|0.9638|0.9617|0.8523|0.8546|\n",
    "\n",
    "Results:\n",
    "1. XGBoost has done very well in terms of AUC Score and Recall metrics. There is less overfitting seen as difference between Train and Test Metrics is quite small and insignificant\n",
    "2. I would pick 2 models here as best model- \n",
    "   #### 1. XGBoost with SMOTE Class Balance \n",
    "   #### 2. Random Forest with Adasyn Class Balance\n",
    "\n",
    "Final Model selected: \n",
    "#### 1. XGBoost with SMOTE Class Balance as it was quite fast and best AUC and recall with good precision and accuracy"
   ]
  },
  {
   "cell_type": "code",
   "execution_count": null,
   "metadata": {},
   "outputs": [],
   "source": []
  },
  {
   "cell_type": "markdown",
   "metadata": {},
   "source": [
    "### Best Model- XGboost with SMOTE"
   ]
  },
  {
   "cell_type": "code",
   "execution_count": 307,
   "metadata": {},
   "outputs": [
    {
     "name": "stdout",
     "output_type": "stream",
     "text": [
      "Threshold 0.57097816\n"
     ]
    }
   ],
   "source": [
    "## Threshold Calculation\n",
    "probs = classifier_smote.predict_proba(X_test_smote)\n",
    "preds = probs[:,1]\n",
    "fpr, tpr, thresholds = metrics.roc_curve(y_test_smote, preds)\n",
    "threshold = thresholds[np.argmax(tpr-fpr)]\n",
    "print(\"Threshold\",threshold)"
   ]
  },
  {
   "cell_type": "code",
   "execution_count": 261,
   "metadata": {},
   "outputs": [
    {
     "name": "stdout",
     "output_type": "stream",
     "text": [
      "FPR [0.         0.         0.         ... 0.99984476 0.99987298 1.        ]\n",
      "TPR [0.00000000e+00 2.80497041e-05 4.68430058e-03 ... 1.00000000e+00\n",
      " 1.00000000e+00 1.00000000e+00]\n"
     ]
    }
   ],
   "source": [
    "#### Print the FPR,TPR & select the best threshold from the roc curve\n",
    "print(\"FPR\" , fpr)\n",
    "print(\"TPR\" , tpr)"
   ]
  },
  {
   "cell_type": "code",
   "execution_count": 255,
   "metadata": {},
   "outputs": [
    {
     "name": "stdout",
     "output_type": "stream",
     "text": [
      "Test Model parameters: \n",
      "AUC : 0.9996\n",
      "Recall/Sensitivity : 0.9997\n",
      "Precision : 0.9995\n",
      "Accuracy : 0.9996\n"
     ]
    }
   ],
   "source": [
    "#Test performance Metric for XGboost SMOTE class balance\n",
    "y_test_xgsmotepred = classifier_smote.predict(X_test_smote)\n",
    "print(\"Test Model parameters: \")\n",
    "print (\"AUC : %.4g\" % metrics.roc_auc_score(y_test_smote, y_test_xgsmotepred))\n",
    "print (\"Recall/Sensitivity : %.4g\" % metrics.recall_score(y_test_smote, y_test_xgsmotepred))\n",
    "print (\"Precision : %.4g\" % metrics.precision_score(y_test_smote, y_test_xgsmotepred))\n",
    "print (\"Accuracy : %.4g\" % metrics.accuracy_score(y_test_smote, y_test_xgsmotepred))"
   ]
  },
  {
   "cell_type": "code",
   "execution_count": 304,
   "metadata": {},
   "outputs": [
    {
     "name": "stdout",
     "output_type": "stream",
     "text": [
      "Test Model parameters: \n",
      "AUC : 0.9984\n",
      "Recall/Sensitivity : 0.9994\n",
      "Precision : 0.9974\n",
      "Accuracy : 0.9984\n"
     ]
    }
   ],
   "source": [
    "#Test performance Metric for Random Forest with ADAsyn class balance\n",
    "y_test_adapred=rfc_ada.predict(X_test_ada)\n",
    "#Test performance Metrics\n",
    "print(\"Test Model parameters: \")\n",
    "print (\"AUC : %.4g\" % metrics.roc_auc_score(y_test_ada, y_test_adapred))\n",
    "print (\"Recall/Sensitivity : %.4g\" % metrics.recall_score(y_test_ada, y_test_adapred))\n",
    "print (\"Precision : %.4g\" % metrics.precision_score(y_test_ada, y_test_adapred))\n",
    "print (\"Accuracy : %.4g\" % metrics.accuracy_score(y_test_ada, y_test_adapred))"
   ]
  },
  {
   "cell_type": "code",
   "execution_count": 306,
   "metadata": {},
   "outputs": [],
   "source": [
    "probs1 = rfc_ada.predict_proba(X_test_ada)\n",
    "preds1 = probs1[:,1]\n",
    "fpr1, tpr1, thresholds = metrics.roc_curve(y_test_ada, preds1)"
   ]
  },
  {
   "cell_type": "markdown",
   "metadata": {},
   "source": [
    "#### plotting ROC curve and comparing it with our 2nd best model i.e Random Forest with Adasyn\n"
   ]
  },
  {
   "cell_type": "code",
   "execution_count": 308,
   "metadata": {},
   "outputs": [
    {
     "data": {
      "image/png": "[encoded data removed]",
      "text/plain": [
       "<Figure size 360x360 with 1 Axes>"
      ]
     },
     "metadata": {
      "needs_background": "light"
     },
     "output_type": "display_data"
    }
   ],
   "source": [
    "    plt.subplots(1, figsize=(5,5))\n",
    "    plt.title('Receiver Operating Characteristic -XG')\n",
    "    plt.plot(fpr, tpr, linestyle='--', color='orange',label='XGBoost SMOTE balance')\n",
    "    plt.plot(fpr1, tpr1, linestyle='--', color='green',label='Random Forest ADAsyn Balance')\n",
    "    plt.plot([0, 1], ls=\"--\")\n",
    "    plt.plot([0, 0], [1, 0] , c=\".7\"), plt.plot([1, 1] , c=\".7\")\n",
    "    plt.ylabel('True Positive Rate')\n",
    "    plt.xlabel('False Positive Rate')\n",
    "    plt.show()"
   ]
  },
  {
   "cell_type": "markdown",
   "metadata": {},
   "source": [
    "#### Print the important features of the best model to understand the dataset\n",
    "######  ---- This will not give much explanation on the already transformed dataset\n",
    "###### But it will help us in understanding if the dataset is not PCA transformed"
   ]
  },
  {
   "cell_type": "code",
   "execution_count": 243,
   "metadata": {},
   "outputs": [
    {
     "data": {
      "text/plain": [
       "array([0.03677816, 0.0009309 , 0.00377188, 0.27901733, 0.00549854,\n",
       "       0.01868404, 0.0100898 , 0.01175491, 0.00489844, 0.05355959,\n",
       "       0.04083201, 0.00430932, 0.00781326, 0.09385832, 0.00774378,\n",
       "       0.03350851, 0.18730563, 0.01076223, 0.01801552, 0.01297089,\n",
       "       0.00725232, 0.00828549, 0.00981206, 0.00963955, 0.00801884,\n",
       "       0.00617954, 0.09053734, 0.00555768, 0.01261412], dtype=float32)"
      ]
     },
     "execution_count": 243,
     "metadata": {},
     "output_type": "execute_result"
    }
   ],
   "source": [
    "#feature Importance from XGboost\n",
    "imp=classifier_smote.feature_importances_\n",
    "imp\n",
    "\n"
   ]
  },
  {
   "cell_type": "code",
   "execution_count": 181,
   "metadata": {},
   "outputs": [],
   "source": [
    "#fetching columns of Data\n",
    "cols=list(X.columns)"
   ]
  },
  {
   "cell_type": "code",
   "execution_count": 244,
   "metadata": {},
   "outputs": [
    {
     "name": "stdout",
     "output_type": "stream",
     "text": [
      "V1 = 0.03677816\n",
      "V2 = 0.0009309016\n",
      "V3 = 0.0037718788\n",
      "V4 = 0.27901733\n",
      "V5 = 0.0054985355\n",
      "V6 = 0.018684037\n",
      "V7 = 0.010089804\n",
      "V8 = 0.0117549095\n",
      "V9 = 0.0048984378\n",
      "V10 = 0.05355959\n",
      "V11 = 0.04083201\n",
      "V12 = 0.0043093194\n",
      "V13 = 0.00781326\n",
      "V14 = 0.09385832\n",
      "V15 = 0.0077437824\n",
      "V16 = 0.033508513\n",
      "V17 = 0.18730563\n",
      "V18 = 0.010762232\n",
      "V19 = 0.018015523\n",
      "V20 = 0.012970888\n",
      "V21 = 0.0072523225\n",
      "V22 = 0.008285491\n",
      "V23 = 0.009812063\n",
      "V24 = 0.009639547\n",
      "V25 = 0.008018836\n",
      "V26 = 0.006179537\n",
      "V27 = 0.09053734\n",
      "V28 = 0.0055576754\n",
      "Amount = 0.01261412\n"
     ]
    }
   ],
   "source": [
    "#merging importance and feature names\n",
    "#for name, importance in zip(df_cols, imp):\n",
    "for name, importance in zip(cols, imp):\n",
    "    print(name, \"=\", importance)"
   ]
  },
  {
   "cell_type": "code",
   "execution_count": 185,
   "metadata": {},
   "outputs": [],
   "source": [
    "#storing in tuple\n",
    "featmap=list(zip(cols, imp))"
   ]
  },
  {
   "cell_type": "code",
   "execution_count": 186,
   "metadata": {},
   "outputs": [
    {
     "data": {
      "text/plain": [
       "[('V1', 0.033248324),\n",
       " ('V2', 0.014844977),\n",
       " ('V3', 0.033145536),\n",
       " ('V4', 0.123717226),\n",
       " ('V5', 0.011577037),\n",
       " ('V6', 0.01859084),\n",
       " ('V7', 0.011659479),\n",
       " ('V8', 0.03050842),\n",
       " ('V9', 0.0195828),\n",
       " ('V10', 0.07551888),\n",
       " ('V11', 0.025034914),\n",
       " ('V12', 0.050478943),\n",
       " ('V13', 0.018132549),\n",
       " ('V14', 0.2747743),\n",
       " ('V15', 0.014193483),\n",
       " ('V16', 0.011175856),\n",
       " ('V17', 0.019217964),\n",
       " ('V18', 0.015881253),\n",
       " ('V19', 0.030864801),\n",
       " ('V20', 0.010825556),\n",
       " ('V21', 0.019454699),\n",
       " ('V22', 0.010491967),\n",
       " ('V23', 0.016084904),\n",
       " ('V24', 0.012846834),\n",
       " ('V25', 0.014390717),\n",
       " ('V26', 0.022155471),\n",
       " ('V27', 0.009602164),\n",
       " ('V28', 0.01760407),\n",
       " ('Amount', 0.03439604)]"
      ]
     },
     "execution_count": 186,
     "metadata": {},
     "output_type": "execute_result"
    }
   ],
   "source": [
    "featmap"
   ]
  },
  {
   "cell_type": "code",
   "execution_count": 187,
   "metadata": {},
   "outputs": [],
   "source": [
    "def Sort_Tuple(tup):  \n",
    "    return(sorted(tup, key = lambda x: x[1],reverse=True))   "
   ]
  },
  {
   "cell_type": "code",
   "execution_count": 245,
   "metadata": {},
   "outputs": [
    {
     "data": {
      "text/plain": [
       "[('V14', 0.2747743),\n",
       " ('V4', 0.123717226),\n",
       " ('V10', 0.07551888),\n",
       " ('V12', 0.050478943),\n",
       " ('Amount', 0.03439604),\n",
       " ('V1', 0.033248324),\n",
       " ('V3', 0.033145536),\n",
       " ('V19', 0.030864801),\n",
       " ('V8', 0.03050842),\n",
       " ('V11', 0.025034914),\n",
       " ('V26', 0.022155471),\n",
       " ('V9', 0.0195828),\n",
       " ('V21', 0.019454699),\n",
       " ('V17', 0.019217964),\n",
       " ('V6', 0.01859084),\n",
       " ('V13', 0.018132549),\n",
       " ('V28', 0.01760407),\n",
       " ('V23', 0.016084904),\n",
       " ('V18', 0.015881253),\n",
       " ('V2', 0.014844977),\n",
       " ('V25', 0.014390717),\n",
       " ('V15', 0.014193483),\n",
       " ('V24', 0.012846834),\n",
       " ('V7', 0.011659479),\n",
       " ('V5', 0.011577037),\n",
       " ('V16', 0.011175856),\n",
       " ('V20', 0.010825556),\n",
       " ('V22', 0.010491967),\n",
       " ('V27', 0.009602164)]"
      ]
     },
     "execution_count": 245,
     "metadata": {},
     "output_type": "execute_result"
    }
   ],
   "source": [
    "#sorting tuple\n",
    "Sort_Tuple(featmap)"
   ]
  },
  {
   "cell_type": "code",
   "execution_count": 247,
   "metadata": {},
   "outputs": [],
   "source": [
    "df_feat=pd.DataFrame(imp,index=cols)"
   ]
  },
  {
   "cell_type": "code",
   "execution_count": 248,
   "metadata": {},
   "outputs": [],
   "source": [
    "final_df = df_feat.sort_values(by=[0], ascending=False)"
   ]
  },
  {
   "cell_type": "code",
   "execution_count": 249,
   "metadata": {},
   "outputs": [],
   "source": [
    "final=final_df[:12]"
   ]
  },
  {
   "cell_type": "code",
   "execution_count": 251,
   "metadata": {},
   "outputs": [
    {
     "data": {
      "text/html": [
       "<div>\n",
       "<style scoped>\n",
       "    .dataframe tbody tr th:only-of-type {\n",
       "        vertical-align: middle;\n",
       "    }\n",
       "\n",
       "    .dataframe tbody tr th {\n",
       "        vertical-align: top;\n",
       "    }\n",
       "\n",
       "    .dataframe thead th {\n",
       "        text-align: right;\n",
       "    }\n",
       "</style>\n",
       "<table border=\"1\" class=\"dataframe\">\n",
       "  <thead>\n",
       "    <tr style=\"text-align: right;\">\n",
       "      <th></th>\n",
       "      <th>0</th>\n",
       "    </tr>\n",
       "  </thead>\n",
       "  <tbody>\n",
       "    <tr>\n",
       "      <th>V4</th>\n",
       "      <td>0.279017</td>\n",
       "    </tr>\n",
       "    <tr>\n",
       "      <th>V17</th>\n",
       "      <td>0.187306</td>\n",
       "    </tr>\n",
       "    <tr>\n",
       "      <th>V14</th>\n",
       "      <td>0.093858</td>\n",
       "    </tr>\n",
       "    <tr>\n",
       "      <th>V27</th>\n",
       "      <td>0.090537</td>\n",
       "    </tr>\n",
       "    <tr>\n",
       "      <th>V10</th>\n",
       "      <td>0.053560</td>\n",
       "    </tr>\n",
       "    <tr>\n",
       "      <th>V11</th>\n",
       "      <td>0.040832</td>\n",
       "    </tr>\n",
       "    <tr>\n",
       "      <th>V1</th>\n",
       "      <td>0.036778</td>\n",
       "    </tr>\n",
       "    <tr>\n",
       "      <th>V16</th>\n",
       "      <td>0.033509</td>\n",
       "    </tr>\n",
       "    <tr>\n",
       "      <th>V6</th>\n",
       "      <td>0.018684</td>\n",
       "    </tr>\n",
       "    <tr>\n",
       "      <th>V19</th>\n",
       "      <td>0.018016</td>\n",
       "    </tr>\n",
       "    <tr>\n",
       "      <th>V20</th>\n",
       "      <td>0.012971</td>\n",
       "    </tr>\n",
       "    <tr>\n",
       "      <th>Amount</th>\n",
       "      <td>0.012614</td>\n",
       "    </tr>\n",
       "  </tbody>\n",
       "</table>\n",
       "</div>"
      ],
      "text/plain": [
       "               0\n",
       "V4      0.279017\n",
       "V17     0.187306\n",
       "V14     0.093858\n",
       "V27     0.090537\n",
       "V10     0.053560\n",
       "V11     0.040832\n",
       "V1      0.036778\n",
       "V16     0.033509\n",
       "V6      0.018684\n",
       "V19     0.018016\n",
       "V20     0.012971\n",
       "Amount  0.012614"
      ]
     },
     "execution_count": 251,
     "metadata": {},
     "output_type": "execute_result"
    }
   ],
   "source": [
    "#printing top 12 features \n",
    "final.head(12)"
   ]
  },
  {
   "cell_type": "markdown",
   "metadata": {},
   "source": [
    "##### Graphical represenation of Feature Importance variable based on their ranks"
   ]
  },
  {
   "cell_type": "code",
   "execution_count": 252,
   "metadata": {},
   "outputs": [
    {
     "data": {
      "text/plain": [
       "<matplotlib.axes._subplots.AxesSubplot at 0x28793d55388>"
      ]
     },
     "execution_count": 252,
     "metadata": {},
     "output_type": "execute_result"
    },
    {
     "data": {
      "image/png": "[encoded data removed]",
      "text/plain": [
       "<Figure size 1440x1440 with 1 Axes>"
      ]
     },
     "metadata": {
      "needs_background": "light"
     },
     "output_type": "display_data"
    }
   ],
   "source": [
    "final.plot.bar() "
   ]
  },
  {
   "cell_type": "code",
   "execution_count": 309,
   "metadata": {},
   "outputs": [
    {
     "data": {
      "text/plain": [
       "array([[70823,    33],\n",
       "       [   23, 71279]], dtype=int64)"
      ]
     },
     "execution_count": 309,
     "metadata": {},
     "output_type": "execute_result"
    }
   ],
   "source": [
    "confusion_matrix(y_test_smote, y_test_xgsmotepred)"
   ]
  },
  {
   "cell_type": "markdown",
   "metadata": {},
   "source": [
    "##### Cost Analysis\n",
    "\n",
    "As False Negative is a greater cost to the bank as it indicates missing out on potential loss to the company, so Recall is an important factor here than precision\n",
    "\n",
    "Since the false negative cost is the highest, the most optimal model will be the one with the minimum false negatives. In other words, a model with higher sensitivity will fetch a higher net revenue compared to other models.\n",
    "\n",
    "Hypothetically below is an approximate consideration for cost under below circumstances:\n",
    "\n",
    "TN (Normal Transaction):\tCTP = -1 x Transaction Amount x Merchant Fee\n",
    "FP (Falsely Flagged Fraud):\tCFP = Intervention Cost\n",
    "FN (Undetected Fraud):\tCFN = Transaction Amount\n",
    "TP (Detected Potential Cost Fraud):\tCTP = Intervention Cost (Potential Loss Saved)\n",
    "\n",
    "Under the Class Imbalance scenario with original data set, it is obesrevd that when no ML is applied and it is a do nothing scenario when we observe the amount Field:\n",
    "\n",
    "TN: $375,000 (Normal Transactions)\n",
    "FN:  $60,000 (Fraudulent Transactions Not Caught)\n",
    "\n",
    "Company is benefitted with (375000-60000)=$315000\n",
    "\n",
    "Strategy 1 for optimization:\n",
    "When we analyze  the costs and benefits of (mis)classification, we see that they are heavily dependent upon the amount of the transaction. We can also  bin the transactions into categories, such as those being low, medium, and high-value. \n",
    "This makes some sense, as it means that, in transactions less than our cost of intervention, there are no cases for which our automated fraud screening algorithm should trigger. \n",
    "Here we need to see that Fraudsters do  not exploit this by making multiple low value fraud transactions.\n",
    "We also need to consider the Influencing features that are leading to fraudulent transactions and work on them. For example adjusting credit limit based on credit default history\n",
    "\n",
    "Strategy 2:\n",
    "We capture all the potential fraud transactions and bear the intevention cost even if it is a false positive. In this case we need to take precision into consideration to optimize the operation. A high Recall with a good precision Model would be an ideal fit for business.\n",
    "We also need to consider the Influencing features that are leading to fraudulent transactions and work on them. For example adjusting credit limit based on credit default history\n"
   ]
  },
  {
   "cell_type": "code",
   "execution_count": null,
   "metadata": {},
   "outputs": [],
   "source": []
  },
  {
   "cell_type": "code",
   "execution_count": null,
   "metadata": {},
   "outputs": [],
   "source": []
  },
  {
   "cell_type": "code",
   "execution_count": null,
   "metadata": {},
   "outputs": [],
   "source": []
  },
  {
   "cell_type": "code",
   "execution_count": null,
   "metadata": {},
   "outputs": [],
   "source": []
  },
  {
   "cell_type": "code",
   "execution_count": null,
   "metadata": {},
   "outputs": [],
   "source": []
  }
 ],
 "metadata": {
  "kernelspec": {
   "display_name": "Python 3",
   "language": "python",
   "name": "python3"
  },
  "language_info": {
   "codemirror_mode": {
    "name": "ipython",
    "version": 3
   },
   "file_extension": ".py",
   "mimetype": "text/x-python",
   "name": "python",
   "nbconvert_exporter": "python",
   "pygments_lexer": "ipython3",
   "version": "3.7.6"
  }
 },
 "nbformat": 4,
 "nbformat_minor": 2
}
